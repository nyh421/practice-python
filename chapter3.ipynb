{
 "cells": [
  {
   "cell_type": "code",
   "execution_count": 4,
   "id": "fe9eb78a-c319-430f-8c7d-8e3203dc7178",
   "metadata": {},
   "outputs": [
    {
     "name": "stdout",
     "output_type": "stream",
     "text": [
      "データ 0 を追加しました\n",
      "データ 1 を追加しました\n",
      "データ 2 を追加しました\n",
      "データ 3 を追加しました\n",
      "データ 4 を追加しました\n",
      "これ以上データを入れられません\n",
      "取り出したデータ 4\n",
      "取り出したデータ 3\n",
      "取り出したデータ 2\n",
      "取り出したデータ 1\n",
      "取り出したデータ 0\n",
      "取り出すデータが存在しません\n",
      "取り出したデータ None\n"
     ]
    }
   ],
   "source": [
    "MAX = 5\n",
    "stack = [0] * MAX\n",
    "sp = 0\n",
    "def push(d):\n",
    "    global sp\n",
    "    if sp < MAX:\n",
    "        stack[sp] = d\n",
    "        sp += 1\n",
    "        print('データ', d, 'を追加しました')\n",
    "    else:\n",
    "        print('これ以上データを入れられません')\n",
    "        \n",
    "def pop():\n",
    "    global sp\n",
    "    if sp > 0:\n",
    "        sp -= 1\n",
    "        return stack[sp]\n",
    "    else:\n",
    "        print('取り出すデータが存在しません')\n",
    "        return None\n",
    "    \n",
    "for i in range(6):\n",
    "    push(i)\n",
    "for i in range(6):\n",
    "    d = pop()\n",
    "    print('取り出したデータ', d)\n",
    "    "
   ]
  },
  {
   "cell_type": "code",
   "execution_count": 7,
   "id": "13bb4aba-0e0d-41b8-9927-f9180219ca54",
   "metadata": {},
   "outputs": [
    {
     "name": "stdout",
     "output_type": "stream",
     "text": [
      "データ 0 を追加しました\n",
      "データ 1 を追加しました\n",
      "データ 2 を追加しました\n",
      "データ 3 を追加しました\n",
      "データ 4 を追加しました\n",
      "これ以上データを入れられません\n",
      "取り出したデータ 0\n",
      "取り出したデータ 1\n",
      "取り出したデータ 2\n",
      "取り出したデータ 3\n",
      "取り出したデータ 4\n",
      "取り出すデータが存在しません\n",
      "取り出したデータ None\n"
     ]
    }
   ],
   "source": [
    "MAX = 6\n",
    "que = [0] * MAX\n",
    "head = 0\n",
    "tail = 0\n",
    "\n",
    "def enqueue(d):\n",
    "    global tail\n",
    "    nt = (tail + 1) % MAX\n",
    "    if nt == head:\n",
    "        print(\"これ以上データを入れられません\")\n",
    "    else:\n",
    "        que[tail] = d\n",
    "        tail = nt\n",
    "        print(\"データ\", d, \"を追加しました\")\n",
    "\n",
    "def dequeue():\n",
    "    global head\n",
    "    if head == tail:\n",
    "        print(\"取り出すデータが存在しません\")\n",
    "        return None\n",
    "    else:\n",
    "        d = que[head]\n",
    "        head = (head + 1) % MAX\n",
    "        return d\n",
    "    \n",
    "for i in range(6):\n",
    "    enqueue(i)\n",
    "for i in range(6):\n",
    "    d = dequeue()\n",
    "    print(\"取り出したデータ\", d)"
   ]
  },
  {
   "cell_type": "code",
   "execution_count": null,
   "id": "bff0a7f3-97c2-4c7d-9af7-a3fabce64599",
   "metadata": {},
   "outputs": [],
   "source": []
  }
 ],
 "metadata": {
  "kernelspec": {
   "display_name": "Python 3 (ipykernel)",
   "language": "python",
   "name": "python3"
  },
  "language_info": {
   "codemirror_mode": {
    "name": "ipython",
    "version": 3
   },
   "file_extension": ".py",
   "mimetype": "text/x-python",
   "name": "python",
   "nbconvert_exporter": "python",
   "pygments_lexer": "ipython3",
   "version": "3.9.12"
  }
 },
 "nbformat": 4,
 "nbformat_minor": 5
}
