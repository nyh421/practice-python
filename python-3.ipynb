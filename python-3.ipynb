{
 "cells": [
  {
   "cell_type": "code",
   "execution_count": 2,
   "id": "fe9eb78a-c319-430f-8c7d-8e3203dc7178",
   "metadata": {},
   "outputs": [
    {
     "name": "stdin",
     "output_type": "stream",
     "text": [
      "あなたの名前を教えてください 佐藤\n"
     ]
    },
    {
     "name": "stdout",
     "output_type": "stream",
     "text": [
      "佐藤さん、こんにちは\n"
     ]
    },
    {
     "name": "stdin",
     "output_type": "stream",
     "text": [
      "佐藤さんの好きな食べ物を教えてください カレー\n"
     ]
    },
    {
     "name": "stdout",
     "output_type": "stream",
     "text": [
      "素敵です。カレーは最高ですよね!!\n"
     ]
    }
   ],
   "source": [
    "name = input('あなたの名前を教えてください')\n",
    "print(f'{name}さん、こんにちは')\n",
    "food = input(f'{name}さんの好きな食べ物を教えてください')\n",
    "if food == 'カレー':\n",
    "    print('素敵です。カレーは最高ですよね!!')\n",
    "else:\n",
    "    print(f'私も{food}が好きですよ')"
   ]
  },
  {
   "cell_type": "code",
   "execution_count": 4,
   "id": "05cfa64f-78ee-4d6f-93a3-6e0cbbbafdb5",
   "metadata": {},
   "outputs": [
    {
     "name": "stdin",
     "output_type": "stream",
     "text": [
      "あなたの名前を教えてください 田中\n"
     ]
    },
    {
     "name": "stdout",
     "output_type": "stream",
     "text": [
      "田中さん、こんにちは\n"
     ]
    },
    {
     "name": "stdin",
     "output_type": "stream",
     "text": [
      "田中さんの好きな食べ物を教えてください カツカレー\n"
     ]
    },
    {
     "name": "stdout",
     "output_type": "stream",
     "text": [
      "素敵です。カレーは最高ですよね!!\n"
     ]
    }
   ],
   "source": [
    "name = input('あなたの名前を教えてください')\n",
    "print(f'{name}さん、こんにちは')\n",
    "food = input(f'{name}さんの好きな食べ物を教えてください')\n",
    "if 'カレー' in food:\n",
    "    print('素敵です。カレーは最高ですよね!!')\n",
    "else:\n",
    "    print(f'私も{food}が好きですよ')"
   ]
  },
  {
   "cell_type": "code",
   "execution_count": 5,
   "id": "c8032370-a1aa-4856-81f3-336b7fb37467",
   "metadata": {},
   "outputs": [
    {
     "name": "stdout",
     "output_type": "stream",
     "text": [
      "100点満点の試験があったんですね。おめでとう!\n"
     ]
    }
   ],
   "source": [
    "scores = [80, 100, 20, 60]\n",
    "if 100 in scores:\n",
    "    print('100点満点の試験があったんですね。おめでとう!')\n",
    "else:\n",
    "    print('次はどれか1つでも100点満点をとろう')"
   ]
  },
  {
   "cell_type": "code",
   "execution_count": 7,
   "id": "97675da5-ecb2-4c59-b7b2-895fe863501a",
   "metadata": {},
   "outputs": [
    {
     "name": "stdin",
     "output_type": "stream",
     "text": [
      "追加する科目名を入力してください>> math\n",
      "得点を入力してください>> 88\n"
     ]
    },
    {
     "name": "stdout",
     "output_type": "stream",
     "text": [
      "{'network': 60, 'database': 80, 'security': 50, 'math': 88}\n"
     ]
    }
   ],
   "source": [
    "scores = {'network': 60, 'database': 80, 'security': 50}\n",
    "\n",
    "key = input('追加する科目名を入力してください>>')\n",
    "if key in scores:\n",
    "    print('すでに登録済みです')\n",
    "else:\n",
    "    data = int(input('得点を入力してください>>'))\n",
    "    scores[key] = data\n",
    "print(scores)"
   ]
  },
  {
   "cell_type": "code",
   "execution_count": 10,
   "id": "1b7daaba-9c16-487b-b294-0e6d7042f629",
   "metadata": {},
   "outputs": [
    {
     "name": "stdin",
     "output_type": "stream",
     "text": [
      "試験の点数を入力してください>> 98\n"
     ]
    },
    {
     "name": "stdout",
     "output_type": "stream",
     "text": [
      "合格!\n",
      "よくがんばりましたね\n"
     ]
    }
   ],
   "source": [
    "score = int(input('試験の点数を入力してください>>'))\n",
    "if score < 0 or score > 100:\n",
    "    print('異常な得点です')\n",
    "    print('入力し直してください')\n",
    "elif score >= 60:\n",
    "    print('合格!')\n",
    "    print('よくがんばりましたね')\n",
    "else:\n",
    "    print('残念ながら不合格です')\n",
    "    print('追試を受けてください')"
   ]
  },
  {
   "cell_type": "code",
   "execution_count": 14,
   "id": "ea21c93b-3f32-4025-84a9-bc7707ae4aae",
   "metadata": {},
   "outputs": [
    {
     "name": "stdout",
     "output_type": "stream",
     "text": [
      "すべての質問に y または n で答えてください\n"
     ]
    },
    {
     "name": "stdin",
     "output_type": "stream",
     "text": [
      "お金に余裕はありますか?>> y\n",
      "お腹がすごく空いてますか?>> y\n",
      "ビールを飲みたいですか?>> n\n"
     ]
    },
    {
     "name": "stdout",
     "output_type": "stream",
     "text": [
      "カレーはいかがですか\n"
     ]
    },
    {
     "name": "stdin",
     "output_type": "stream",
     "text": [
      "夜食は必要ですか?>> y\n"
     ]
    },
    {
     "name": "stdout",
     "output_type": "stream",
     "text": [
      "コンビニのチキンはいかがですか\n"
     ]
    }
   ],
   "source": [
    "print('すべての質問に y または n で答えてください')\n",
    "okane_aruka = input('お金に余裕はありますか?>>')\n",
    "if okane_aruka == 'y':\n",
    "    onaka_suiteruka = input('お腹がすごく空いてますか?>>')\n",
    "    nomitai_kibunka = input('ビールを飲みたいですか?>>')\n",
    "    if onaka_suiteruka == 'y' and nomitai_kibunka == 'y':\n",
    "        print('焼肉はいかがですか')\n",
    "    elif onaka_suiteruka == 'y':\n",
    "        print('カレーはいかがですか')\n",
    "    elif nomitai_kibunka == 'y':\n",
    "        print('焼き鳥はいかがですか')\n",
    "    else:\n",
    "        print('パスタはいかがですか')\n",
    "    yashoku_iruka = input('夜食は必要ですか?>>')\n",
    "    if yashoku_iruka == 'y':\n",
    "        print('コンビニのチキンはいかがですか')\n",
    "else:\n",
    "    print('家で食べましょう')"
   ]
  },
  {
   "cell_type": "code",
   "execution_count": 16,
   "id": "4fbae34e-fbdc-4fe7-acd0-f2a087ae3e5f",
   "metadata": {},
   "outputs": [
    {
     "name": "stdin",
     "output_type": "stream",
     "text": [
      "数値を入力してください>> 4\n"
     ]
    },
    {
     "name": "stdout",
     "output_type": "stream",
     "text": [
      "偶数です\n"
     ]
    }
   ],
   "source": [
    "number = int(input('数値を入力してください>>'))\n",
    "if number % 2 == 0:\n",
    "    print('偶数です')\n",
    "else:\n",
    "    print('奇数です')"
   ]
  },
  {
   "cell_type": "code",
   "execution_count": 18,
   "id": "a22517be-f313-45c8-b85d-50728bedda84",
   "metadata": {},
   "outputs": [
    {
     "name": "stdin",
     "output_type": "stream",
     "text": [
      "挨拶をどうぞ>> こんにちは\n"
     ]
    },
    {
     "name": "stdout",
     "output_type": "stream",
     "text": [
      "ようこそ!\n"
     ]
    }
   ],
   "source": [
    "greeting = input('挨拶をどうぞ>>')\n",
    "if greeting == 'こんにちは':\n",
    "    print('ようこそ!')\n",
    "elif greeting == '景気は?':\n",
    "    print('ぼちぼちです')\n",
    "elif greeting == 'さようなら':\n",
    "    print('お元気で!')\n",
    "else:\n",
    "    print('どうしました?')"
   ]
  },
  {
   "cell_type": "code",
   "execution_count": 19,
   "id": "3aa64f16-246b-44a8-9067-76f227ff57c4",
   "metadata": {},
   "outputs": [
    {
     "name": "stdin",
     "output_type": "stream",
     "text": [
      "数字を入力してください>> 2\n"
     ]
    },
    {
     "name": "stdout",
     "output_type": "stream",
     "text": [
      "偶数です\n"
     ]
    }
   ],
   "source": [
    "number = int(input('数字を入力してください>>'))\n",
    "div = '偶数' if number % 2 == 0 else '奇数'\n",
    "print('{}です'.format(div))"
   ]
  },
  {
   "cell_type": "code",
   "execution_count": null,
   "id": "cc9160f6-2904-41a7-a1b3-6062cbe07b8b",
   "metadata": {},
   "outputs": [],
   "source": []
  }
 ],
 "metadata": {
  "kernelspec": {
   "display_name": "Python 3 (ipykernel)",
   "language": "python",
   "name": "python3"
  },
  "language_info": {
   "codemirror_mode": {
    "name": "ipython",
    "version": 3
   },
   "file_extension": ".py",
   "mimetype": "text/x-python",
   "name": "python",
   "nbconvert_exporter": "python",
   "pygments_lexer": "ipython3",
   "version": "3.9.12"
  }
 },
 "nbformat": 4,
 "nbformat_minor": 5
}
