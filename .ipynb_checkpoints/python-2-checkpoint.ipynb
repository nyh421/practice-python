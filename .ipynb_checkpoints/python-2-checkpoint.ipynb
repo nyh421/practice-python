{
 "cells": [
  {
   "cell_type": "code",
   "execution_count": 1,
   "id": "98e49408-7a27-4c8e-8b9c-d30a3c5f7072",
   "metadata": {},
   "outputs": [
    {
     "name": "stdout",
     "output_type": "stream",
     "text": [
      "hello,python\n"
     ]
    }
   ],
   "source": [
    "print(\"hello,python\")"
   ]
  },
  {
   "cell_type": "code",
   "execution_count": 2,
   "id": "8d4c951e-562a-46cf-a53f-d057e079dfe0",
   "metadata": {},
   "outputs": [
    {
     "name": "stdout",
     "output_type": "stream",
     "text": [
      "工藤慎平\n",
      "30歳\n",
      "3度の飯より数学が好き\n"
     ]
    }
   ],
   "source": [
    "print(\"工藤慎平\")\n",
    "print(\"30歳\")\n",
    "print(\"3度の飯より数学が好き\")"
   ]
  },
  {
   "cell_type": "code",
   "execution_count": null,
   "id": "fe9eb78a-c319-430f-8c7d-8e3203dc7178",
   "metadata": {},
   "outputs": [],
   "source": []
  }
 ],
 "metadata": {
  "kernelspec": {
   "display_name": "Python 3 (ipykernel)",
   "language": "python",
   "name": "python3"
  },
  "language_info": {
   "codemirror_mode": {
    "name": "ipython",
    "version": 3
   },
   "file_extension": ".py",
   "mimetype": "text/x-python",
   "name": "python",
   "nbconvert_exporter": "python",
   "pygments_lexer": "ipython3",
   "version": "3.9.12"
  }
 },
 "nbformat": 4,
 "nbformat_minor": 5
}
