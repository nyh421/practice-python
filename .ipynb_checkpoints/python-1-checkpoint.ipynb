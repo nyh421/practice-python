{
 "cells": [
  {
   "cell_type": "code",
   "execution_count": 1,
   "id": "fe9eb78a-c319-430f-8c7d-8e3203dc7178",
   "metadata": {},
   "outputs": [
    {
     "name": "stdout",
     "output_type": "stream",
     "text": [
      "1\n",
      "10\n"
     ]
    }
   ],
   "source": [
    "print(1)\n",
    "print(10)"
   ]
  },
  {
   "cell_type": "code",
   "execution_count": 2,
   "id": "f3cc44f2-e11f-4681-a519-0a65068706cd",
   "metadata": {},
   "outputs": [
    {
     "name": "stdout",
     "output_type": "stream",
     "text": [
      "2\n",
      "8\n"
     ]
    }
   ],
   "source": [
    "print(1 + 1)\n",
    "print(10 - 2)"
   ]
  },
  {
   "cell_type": "code",
   "execution_count": 3,
   "id": "e7590fc9-49f8-4ac7-a0c8-ed52fbba8594",
   "metadata": {},
   "outputs": [
    {
     "name": "stdout",
     "output_type": "stream",
     "text": [
      "11\n"
     ]
    }
   ],
   "source": [
    "print('1' + '1')"
   ]
  },
  {
   "cell_type": "code",
   "execution_count": 4,
   "id": "90b989e3-1193-4bf1-a981-010bd8b27a85",
   "metadata": {},
   "outputs": [
    {
     "name": "stdout",
     "output_type": "stream",
     "text": [
      "pythonの世界へようこそ\n",
      "pythonはとってもとってもとっても楽しいですよ\n"
     ]
    }
   ],
   "source": [
    "print('python' + 'の世界へようこそ')\n",
    "print('pythonは' + 'とっても' * 3 + '楽しいですよ')"
   ]
  },
  {
   "cell_type": "code",
   "execution_count": 5,
   "id": "2dbb8753-87ef-4918-a746-862819b6612c",
   "metadata": {},
   "outputs": [
    {
     "name": "stdout",
     "output_type": "stream",
     "text": [
      "はじめまして松田です身体を動かすのが好きです\n",
      "はじめまして\n",
      "松田です\n",
      "身体を動かすのが好きです\n",
      "引用符には、'と\"があります\n"
     ]
    }
   ],
   "source": [
    "print('はじめまして松田です身体を動かすのが好きです')\n",
    "print('はじめまして\\n松田です\\n身体を動かすのが好きです')\n",
    "print('引用符には、\\'と\\\"があります')"
   ]
  },
  {
   "cell_type": "code",
   "execution_count": 6,
   "id": "a6a971c3-6031-4fda-9105-e289b8037851",
   "metadata": {},
   "outputs": [
    {
     "name": "stdout",
     "output_type": "stream",
     "text": [
      "松田\n",
      "22\n"
     ]
    }
   ],
   "source": [
    "name = '松田'\n",
    "age = 22\n",
    "print(name)\n",
    "print(age)"
   ]
  },
  {
   "cell_type": "code",
   "execution_count": 7,
   "id": "269b1174-b9d0-4474-b48e-8caf96c971bf",
   "metadata": {},
   "outputs": [
    {
     "name": "stdout",
     "output_type": "stream",
     "text": [
      "半径が3cmの円の直径は\n",
      "6\n",
      "その円の円周の長さは、\n",
      "18.84\n"
     ]
    }
   ],
   "source": [
    "print('半径が3cmの円の直径は')\n",
    "dia = 3 * 2\n",
    "print(dia)\n",
    "print('その円の円周の長さは、')\n",
    "print(dia * 3.14)"
   ]
  },
  {
   "cell_type": "code",
   "execution_count": 8,
   "id": "034aeb0a-2548-4751-81b0-dca855fb7b93",
   "metadata": {},
   "outputs": [
    {
     "name": "stdout",
     "output_type": "stream",
     "text": [
      "['False', 'None', 'True', '__peg_parser__', 'and', 'as', 'assert', 'async', 'await', 'break', 'class', 'continue', 'def', 'del', 'elif', 'else', 'except', 'finally', 'for', 'from', 'global', 'if', 'import', 'in', 'is', 'lambda', 'nonlocal', 'not', 'or', 'pass', 'raise', 'return', 'try', 'while', 'with', 'yield']\n"
     ]
    }
   ],
   "source": [
    "import keyword\n",
    "print (keyword.kwlist)"
   ]
  },
  {
   "cell_type": "code",
   "execution_count": 9,
   "id": "49c89569-35dc-4dea-928b-2fcdb20ed2a6",
   "metadata": {},
   "outputs": [
    {
     "name": "stdout",
     "output_type": "stream",
     "text": [
      "浅木先輩の今年の年齢は・・・\n",
      "24\n",
      "来年は・・・\n",
      "25\n",
      "再来年は・・・\n",
      "26\n"
     ]
    }
   ],
   "source": [
    "age = 24\n",
    "print('浅木先輩の今年の年齢は・・・')\n",
    "print(age)\n",
    "age += 1\n",
    "print('来年は・・・')\n",
    "print(age)\n",
    "age += 1\n",
    "print('再来年は・・・')\n",
    "print(age)"
   ]
  },
  {
   "cell_type": "code",
   "execution_count": 10,
   "id": "a235b7cc-8151-4db7-8dc8-ebde7a409c5e",
   "metadata": {},
   "outputs": [
    {
     "name": "stdin",
     "output_type": "stream",
     "text": [
      "あなたの名前を入力してください a\n"
     ]
    },
    {
     "name": "stdout",
     "output_type": "stream",
     "text": [
      "おおaよ、そなたがくるのを待っておったぞ！\n"
     ]
    }
   ],
   "source": [
    "name = input('あなたの名前を入力してください')\n",
    "print('おお' + name + 'よ、そなたがくるのを待っておったぞ！')"
   ]
  },
  {
   "cell_type": "code",
   "execution_count": 11,
   "id": "605499a7-503f-4c42-bf95-b4e097e2d31a",
   "metadata": {},
   "outputs": [
    {
     "name": "stdout",
     "output_type": "stream",
     "text": [
      "<class 'int'>\n"
     ]
    }
   ],
   "source": [
    "x = 10\n",
    "print(type(x))"
   ]
  },
  {
   "cell_type": "code",
   "execution_count": 12,
   "id": "47f7dd6d-387a-49d5-ae11-5be8cdc77768",
   "metadata": {},
   "outputs": [
    {
     "name": "stdout",
     "output_type": "stream",
     "text": [
      "3\n",
      "<class 'int'>\n",
      "3.14\n",
      "<class 'str'>\n",
      "3.143.14\n"
     ]
    }
   ],
   "source": [
    "x = 3.14\n",
    "y = int(x)\n",
    "print(y)\n",
    "print(type(y))\n",
    "z = str(x)\n",
    "print(z)\n",
    "print(type(z))\n",
    "print(z * 2)"
   ]
  },
  {
   "cell_type": "code",
   "execution_count": 13,
   "id": "4021d73a-f56f-4888-b044-9397caaa283e",
   "metadata": {},
   "outputs": [
    {
     "name": "stdin",
     "output_type": "stream",
     "text": [
      "料金を入力>> 1000\n",
      "人数を入力>> 5\n"
     ]
    },
    {
     "name": "stdout",
     "output_type": "stream",
     "text": [
      "お支払いは200円です\n"
     ]
    }
   ],
   "source": [
    "price = input('料金を入力>>')\n",
    "price = int(price)\n",
    "number = input('人数を入力>>')\n",
    "number = int(number)\n",
    "payment = price / number\n",
    "payment = int(payment)\n",
    "print('お支払いは' + str(payment) + '円です')"
   ]
  },
  {
   "cell_type": "code",
   "execution_count": 15,
   "id": "992c58e0-b3f4-489d-b731-4676368af97a",
   "metadata": {},
   "outputs": [
    {
     "name": "stdout",
     "output_type": "stream",
     "text": [
      "私の名前は松田光太で、年齢は23歳で、身長は175.6cmです\n"
     ]
    }
   ],
   "source": [
    "name = '松田光太'\n",
    "age = 23\n",
    "height = 175.6\n",
    "print('私の名前は{}で、年齢は{}歳で、身長は{}cmです'.format(name, age, height))"
   ]
  },
  {
   "cell_type": "code",
   "execution_count": 17,
   "id": "5a3ce282-b263-4793-8de4-9e0e3f339ca9",
   "metadata": {},
   "outputs": [
    {
     "name": "stdin",
     "output_type": "stream",
     "text": [
      "料金を入力>> 800\n",
      "人数を入力>> 3\n"
     ]
    },
    {
     "name": "stdout",
     "output_type": "stream",
     "text": [
      "お支払いは266円です\n"
     ]
    }
   ],
   "source": [
    "price = int(input('料金を入力>>'))\n",
    "number = int(input('人数を入力>>'))\n",
    "payment = int(price / number)\n",
    "print('お支払いは{}円です'.format(payment))"
   ]
  },
  {
   "cell_type": "code",
   "execution_count": 18,
   "id": "c6420750-d238-490b-bac6-f33a0c555116",
   "metadata": {},
   "outputs": [
    {
     "name": "stdout",
     "output_type": "stream",
     "text": [
      "私の名前は松田光太で、年齢は23歳で、身長は175.6cmです\n"
     ]
    }
   ],
   "source": [
    "print(f'私の名前は{name}で、年齢は{age}歳で、身長は{height}cmです')"
   ]
  },
  {
   "cell_type": "code",
   "execution_count": null,
   "id": "3f2b1e33-8c07-42af-adc6-b28a642db696",
   "metadata": {},
   "outputs": [],
   "source": []
  }
 ],
 "metadata": {
  "kernelspec": {
   "display_name": "Python 3 (ipykernel)",
   "language": "python",
   "name": "python3"
  },
  "language_info": {
   "codemirror_mode": {
    "name": "ipython",
    "version": 3
   },
   "file_extension": ".py",
   "mimetype": "text/x-python",
   "name": "python",
   "nbconvert_exporter": "python",
   "pygments_lexer": "ipython3",
   "version": "3.9.12"
  }
 },
 "nbformat": 4,
 "nbformat_minor": 5
}
