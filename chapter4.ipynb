{
 "cells": [
  {
   "cell_type": "code",
   "execution_count": 1,
   "id": "fe9eb78a-c319-430f-8c7d-8e3203dc7178",
   "metadata": {},
   "outputs": [
    {
     "name": "stdout",
     "output_type": "stream",
     "text": [
      "data[7]が60です\n"
     ]
    }
   ],
   "source": [
    "data = [57, 48, 46, 52, 45, 59, 61, 60, 49, 71]\n",
    "n = len(data)\n",
    "key = 60\n",
    "flg = False\n",
    "for i in range(n):\n",
    "    if data[i] == key:\n",
    "        print(\"data[{}]が{}です\".format(i, key))\n",
    "        flg = True\n",
    "        break\n",
    "if flg == False:\n",
    "    print(str(key) + \"は存在しません\")"
   ]
  },
  {
   "cell_type": "code",
   "execution_count": null,
   "id": "1b740a23-daea-4bbe-a53d-054ec7040dba",
   "metadata": {},
   "outputs": [],
   "source": [
    "data = [57, 48, 46, 52, 45, 59, 61, 60, 49, 71]\n",
    "n = len(data)\n",
    "key = 60\n",
    "i = 0\n",
    "while i < n and data[i] != key:\n",
    "    i += 1\n",
    "if i == n:\n",
    "    print(str(key))"
   ]
  }
 ],
 "metadata": {
  "kernelspec": {
   "display_name": "Python 3 (ipykernel)",
   "language": "python",
   "name": "python3"
  },
  "language_info": {
   "codemirror_mode": {
    "name": "ipython",
    "version": 3
   },
   "file_extension": ".py",
   "mimetype": "text/x-python",
   "name": "python",
   "nbconvert_exporter": "python",
   "pygments_lexer": "ipython3",
   "version": "3.9.12"
  }
 },
 "nbformat": 4,
 "nbformat_minor": 5
}
