{
 "cells": [
  {
   "cell_type": "code",
   "execution_count": null,
   "id": "fe9eb78a-c319-430f-8c7d-8e3203dc7178",
   "metadata": {},
   "outputs": [],
   "source": [
    "data = [57, 48, 46, 52, 45, 59, 61, 60, 49, 71]\n",
    "n = len(data)\n",
    "key = 60\n",
    "flg = False\n",
    "for i in range(n):\n",
    "    if data[i] == key:\n",
    "        print(\"data\")"
   ]
  }
 ],
 "metadata": {
  "kernelspec": {
   "display_name": "Python 3 (ipykernel)",
   "language": "python",
   "name": "python3"
  },
  "language_info": {
   "codemirror_mode": {
    "name": "ipython",
    "version": 3
   },
   "file_extension": ".py",
   "mimetype": "text/x-python",
   "name": "python",
   "nbconvert_exporter": "python",
   "pygments_lexer": "ipython3",
   "version": "3.9.12"
  }
 },
 "nbformat": 4,
 "nbformat_minor": 5
}
