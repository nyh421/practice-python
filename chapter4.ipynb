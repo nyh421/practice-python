{
 "cells": [
  {
   "cell_type": "code",
   "execution_count": 1,
   "id": "fe9eb78a-c319-430f-8c7d-8e3203dc7178",
   "metadata": {},
   "outputs": [
    {
     "name": "stdout",
     "output_type": "stream",
     "text": [
      "data[7]が60です\n"
     ]
    }
   ],
   "source": [
    "data = [57, 48, 46, 52, 45, 59, 61, 60, 49, 71]\n",
    "n = len(data)\n",
    "key = 60\n",
    "flg = False\n",
    "for i in range(n):\n",
    "    if data[i] == key:\n",
    "        print(\"data[{}]が{}です\".format(i, key))\n",
    "        flg = True\n",
    "        break\n",
    "if flg == False:\n",
    "    print(str(key) + \"は存在しません\")"
   ]
  },
  {
   "cell_type": "code",
   "execution_count": 2,
   "id": "1b740a23-daea-4bbe-a53d-054ec7040dba",
   "metadata": {},
   "outputs": [
    {
     "name": "stdout",
     "output_type": "stream",
     "text": [
      "data[7]が60です\n"
     ]
    }
   ],
   "source": [
    "data = [57, 48, 46, 52, 45, 59, 61, 60, 49, 71]\n",
    "n = len(data)\n",
    "key = 60\n",
    "i = 0\n",
    "while i < n and data[i] != key:\n",
    "    i += 1\n",
    "if i == n:\n",
    "    print(str(key) + \"は存在しません\")\n",
    "else:\n",
    "    print(\"data[{}]が{}です\".format(i, key))"
   ]
  },
  {
   "cell_type": "code",
   "execution_count": null,
   "id": "56816150-871f-483f-8c45-01c4bb66d0fd",
   "metadata": {},
   "outputs": [],
   "source": [
    "data = [\n",
    "    [\"佐藤\", \"000-0000-0000\"]\n",
    "    [\"鈴木\", \"111-1111-1111\"]\n",
    "    [\"高橋\", \"222-2222-2222\"]\n",
    "    [\"田中\", \"333-3333-3333\"]\n",
    "]\n",
    "n = len(data)\n",
    "s = input(\"検索する相手の名字は？\")\n",
    "i = 0\n",
    "while i < n and data[i][0] != s:\n",
    "    i += 1\n",
    "if i == n:\n",
    "    print(\"その名は登録されていません\")\n",
    "else:\n",
    "    print(data[i][0] + \"さんの番号は\" + data[i][1] )"
   ]
  }
 ],
 "metadata": {
  "kernelspec": {
   "display_name": "Python 3 (ipykernel)",
   "language": "python",
   "name": "python3"
  },
  "language_info": {
   "codemirror_mode": {
    "name": "ipython",
    "version": 3
   },
   "file_extension": ".py",
   "mimetype": "text/x-python",
   "name": "python",
   "nbconvert_exporter": "python",
   "pygments_lexer": "ipython3",
   "version": "3.9.12"
  }
 },
 "nbformat": 4,
 "nbformat_minor": 5
}
