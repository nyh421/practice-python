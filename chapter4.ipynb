{
 "cells": [
  {
   "cell_type": "code",
   "execution_count": 1,
   "id": "fe9eb78a-c319-430f-8c7d-8e3203dc7178",
   "metadata": {},
   "outputs": [
    {
     "name": "stdout",
     "output_type": "stream",
     "text": [
      "data[7]が60です\n"
     ]
    }
   ],
   "source": [
    "data = [57, 48, 46, 52, 45, 59, 61, 60, 49, 71]\n",
    "n = len(data)\n",
    "key = 60\n",
    "flg = False\n",
    "for i in range(n):\n",
    "    if data[i] == key:\n",
    "        print(\"data[{}]が{}です\".format(i, key))\n",
    "        flg = True\n",
    "        break\n",
    "if flg == False:\n",
    "    print(str(key) + \"は存在しません\")"
   ]
  },
  {
   "cell_type": "code",
   "execution_count": 2,
   "id": "1b740a23-daea-4bbe-a53d-054ec7040dba",
   "metadata": {},
   "outputs": [
    {
     "name": "stdout",
     "output_type": "stream",
     "text": [
      "data[7]が60です\n"
     ]
    }
   ],
   "source": [
    "data = [57, 48, 46, 52, 45, 59, 61, 60, 49, 71]\n",
    "n = len(data)\n",
    "key = 60\n",
    "i = 0\n",
    "while i < n and data[i] != key:\n",
    "    i += 1\n",
    "if i == n:\n",
    "    print(str(key) + \"は存在しません\")\n",
    "else:\n",
    "    print(\"data[{}]が{}です\".format(i, key))"
   ]
  },
  {
   "cell_type": "code",
   "execution_count": 4,
   "id": "56816150-871f-483f-8c45-01c4bb66d0fd",
   "metadata": {},
   "outputs": [
    {
     "name": "stdin",
     "output_type": "stream",
     "text": [
      "検索する相手の名字は？ 田中\n"
     ]
    },
    {
     "name": "stdout",
     "output_type": "stream",
     "text": [
      "田中さんの番号は333-3333-3333です\n"
     ]
    }
   ],
   "source": [
    "data = [\n",
    "    [\"佐藤\", \"000-0000-0000\"],\n",
    "    [\"鈴木\", \"111-1111-1111\"],\n",
    "    [\"高橋\", \"222-2222-2222\"],\n",
    "    [\"田中\", \"333-3333-3333\"]\n",
    "]\n",
    "n = len(data)\n",
    "s = input(\"検索する相手の名字は？\")\n",
    "i = 0\n",
    "while i < n and data[i][0] != s:\n",
    "    i += 1\n",
    "if i == n:\n",
    "    print(\"その名は登録されていません\")\n",
    "else:\n",
    "    print(data[i][0] + \"さんの番号は\" + data[i][1] + \"です\")"
   ]
  },
  {
   "cell_type": "code",
   "execution_count": 7,
   "id": "f0d6690b-8aee-464c-9eb5-5249eec54774",
   "metadata": {},
   "outputs": [
    {
     "name": "stdin",
     "output_type": "stream",
     "text": [
      "探す値を入力してください 9\n"
     ]
    },
    {
     "name": "stdout",
     "output_type": "stream",
     "text": [
      "L=0 M=7 R=14\n",
      "L=0 M=3 R=6\n",
      "L=0 M=1 R=2\n",
      "L=2 M=2 R=2\n",
      "data[2]が9です\n"
     ]
    }
   ],
   "source": [
    "data = [1, 2, 9, 12, 20, 25, 32, 48, 50, 57, 72, 78, 80, 93, 100]\n",
    "key = int(input(\"探す値を入力してください\"))\n",
    "left = 0\n",
    "right = len(data) - 1\n",
    "flg = False\n",
    "\n",
    "while left <= right:\n",
    "    mid = (left + right) // 2\n",
    "    print(\"L={} M={} R={}\".format(left, mid, right))\n",
    "    if data[mid] == key:\n",
    "        print(\"data[{}]が{}です\".format(mid, key))\n",
    "        flg = True\n",
    "        break\n",
    "    if data[mid] < key:\n",
    "        left = mid + 1\n",
    "    else:\n",
    "        right = mid - 1\n",
    "\n",
    "if flg == False:\n",
    "    print(\"その値は見つかりませんでした\")"
   ]
  },
  {
   "cell_type": "code",
   "execution_count": 10,
   "id": "4911b13c-2d12-418d-bc0e-39133509d705",
   "metadata": {},
   "outputs": [
    {
     "name": "stdout",
     "output_type": "stream",
     "text": [
      "二分探索木を通りがけ順に巡回\n",
      "2\n",
      "5\n",
      "6\n",
      "8\n",
      "9\n",
      "10\n",
      "11\n",
      "12\n"
     ]
    }
   ],
   "source": [
    "LEFT = 0\n",
    "RIGHT = 1\n",
    "DATA = 2\n",
    "node = [\n",
    "    [1, 2, 10],\n",
    "    [3, 4, 5,],\n",
    "    [5, None, 12],\n",
    "    [None, None, 2],\n",
    "    [6, 7, 8],\n",
    "    [None, None, 11],\n",
    "    [None, None, 6],\n",
    "    [None, None, 9]\n",
    "]\n",
    "\n",
    "def traverse(p):\n",
    "    if p != None:\n",
    "        traverse(node[p][LEFT])\n",
    "        print(node[p][DATA])\n",
    "        traverse(node[p][RIGHT])\n",
    "print(\"二分探索木を通りがけ順に巡回\")\n",
    "traverse(0)\n"
   ]
  },
  {
   "cell_type": "code",
   "execution_count": 13,
   "id": "25777097-c276-4bba-8c7c-7a758a088cff",
   "metadata": {},
   "outputs": [
    {
     "name": "stdout",
     "output_type": "stream",
     "text": [
      "[9, 3, 7, 1, 4, 2, 5, 8, 6, 0] 元のデータ\n",
      "[0, 1, 2, 3, 4, 5, 6, 7, 8, 9] ソート後のデータ\n"
     ]
    }
   ],
   "source": [
    "data = [9, 3, 7, 1, 4, 2, 5, 8, 6, 0]\n",
    "print(data, \"元のデータ\")\n",
    "\n",
    "for i in range(0, 9):\n",
    "    m = i\n",
    "    for j in range(i + 1, 10):\n",
    "        if data[j] < data[m]:\n",
    "            m = j\n",
    "    data[i], data[m] = data[m], data[i]\n",
    "print(data, \"ソート後のデータ\")"
   ]
  },
  {
   "cell_type": "code",
   "execution_count": 14,
   "id": "06957d2f-535d-4a73-8806-7c5c3a9612e3",
   "metadata": {},
   "outputs": [
    {
     "name": "stdout",
     "output_type": "stream",
     "text": [
      "[9, 3, 7, 1, 4, 2, 5, 8, 6, 0] 元のデータ\n",
      "[0, 3, 7, 1, 4, 2, 5, 8, 6, 9] 1\n",
      "[0, 1, 7, 3, 4, 2, 5, 8, 6, 9] 2\n",
      "[0, 1, 2, 3, 4, 7, 5, 8, 6, 9] 3\n",
      "[0, 1, 2, 3, 4, 7, 5, 8, 6, 9] 4\n",
      "[0, 1, 2, 3, 4, 7, 5, 8, 6, 9] 5\n",
      "[0, 1, 2, 3, 4, 5, 7, 8, 6, 9] 6\n",
      "[0, 1, 2, 3, 4, 5, 6, 8, 7, 9] 7\n",
      "[0, 1, 2, 3, 4, 5, 6, 7, 8, 9] 8\n",
      "[0, 1, 2, 3, 4, 5, 6, 7, 8, 9] 9\n",
      "[0, 1, 2, 3, 4, 5, 6, 7, 8, 9] ソート後のデータ\n"
     ]
    }
   ],
   "source": [
    "data = [9, 3, 7, 1, 4, 2, 5, 8, 6, 0]\n",
    "print(data, \"元のデータ\")\n",
    "\n",
    "for i in range(0, 9):\n",
    "    m = i\n",
    "    for j in range(i + 1, 10):\n",
    "        if data[j] < data[m]:\n",
    "            m = j\n",
    "    data[i], data[m] = data[m], data[i]\n",
    "    print(data, i + 1)\n",
    "print(data, \"ソート後のデータ\")"
   ]
  },
  {
   "cell_type": "code",
   "execution_count": 15,
   "id": "dd02908e-7246-429e-a118-4c6174f8f536",
   "metadata": {},
   "outputs": [
    {
     "name": "stdout",
     "output_type": "stream",
     "text": [
      "[9, 4, 7, 2, 3, 8, 6, 1, 5, 0] 元のデータ\n",
      "[0, 1, 2, 3, 4, 5, 6, 7, 8, 9] ソート後のデータ\n"
     ]
    }
   ],
   "source": [
    "data = [9, 4, 7, 2, 3, 8, 6, 1, 5, 0]\n",
    "n = len(data)\n",
    "print(data, \"元のデータ\")\n",
    "\n",
    "for i in range(0, n - 1):\n",
    "    for j in range(n - 1, i, - 1):\n",
    "        if data[j - 1] > data[j]:\n",
    "            data[j], data[j - 1] = data[j - 1], data[j]\n",
    "\n",
    "print(data, \"ソート後のデータ\")\n",
    "    "
   ]
  },
  {
   "cell_type": "code",
   "execution_count": null,
   "id": "f47ce2d3-fa77-4d01-9ef3-a66ca5ae7257",
   "metadata": {},
   "outputs": [],
   "source": [
    "data = [9, 4, 7, 2, 3, 8, 6, 1, 5, 0]\n",
    "n = len(data)\n",
    "print(data, \"元のデータ\")\n",
    "\n",
    "for i in range"
   ]
  }
 ],
 "metadata": {
  "kernelspec": {
   "display_name": "Python 3 (ipykernel)",
   "language": "python",
   "name": "python3"
  },
  "language_info": {
   "codemirror_mode": {
    "name": "ipython",
    "version": 3
   },
   "file_extension": ".py",
   "mimetype": "text/x-python",
   "name": "python",
   "nbconvert_exporter": "python",
   "pygments_lexer": "ipython3",
   "version": "3.9.12"
  }
 },
 "nbformat": 4,
 "nbformat_minor": 5
}
