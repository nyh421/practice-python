{
 "cells": [
  {
   "cell_type": "code",
   "execution_count": 2,
   "id": "fe9eb78a-c319-430f-8c7d-8e3203dc7178",
   "metadata": {},
   "outputs": [
    {
     "name": "stdin",
     "output_type": "stream",
     "text": [
      "何を記録しますか?>> 7月16日\n"
     ]
    }
   ],
   "source": [
    "text = input('何を記録しますか?>>')\n",
    "file = open('diary.txt', 'a')\n",
    "file.write(text + '\\n')\n",
    "file.close()"
   ]
  },
  {
   "cell_type": "code",
   "execution_count": 3,
   "id": "dc16f452-ed9c-4801-a806-5f67ed31ea24",
   "metadata": {},
   "outputs": [
    {
     "name": "stdin",
     "output_type": "stream",
     "text": [
      "何を記録しますか?>> 7月17日\n"
     ]
    }
   ],
   "source": [
    "text = input('何を記録しますか?>>')\n",
    "with open('diary.txt', 'a') as file:\n",
    "    file.write(text +'\\n')"
   ]
  },
  {
   "cell_type": "code",
   "execution_count": 4,
   "id": "6069972d-ba1e-427e-927b-c23b9c82929c",
   "metadata": {},
   "outputs": [
    {
     "name": "stdout",
     "output_type": "stream",
     "text": [
      "円周率は3.141592653589793です\n",
      "小数点以下を切り捨てれば3です\n",
      "小数点以下を切り上げれば4です\n"
     ]
    }
   ],
   "source": [
    "import math\n",
    "print('円周率は{}です'.format(math.pi))\n",
    "print('小数点以下を切り捨てれば{}です'.format(math.floor(math.pi)))\n",
    "print('小数点以下を切り上げれば{}です'.format(math.ceil(math.pi)))"
   ]
  },
  {
   "cell_type": "code",
   "execution_count": 7,
   "id": "a6e730bf-2496-4d50-8945-5e13aedaaaa3",
   "metadata": {},
   "outputs": [
    {
     "name": "stdout",
     "output_type": "stream",
     "text": [
      "円周率は3.141592653589793です\n",
      "小数点以下を切り捨てれば3です\n",
      "小数点以下を切り上げれば4です\n"
     ]
    }
   ],
   "source": [
    "import math as m\n",
    "print('円周率は{}です'.format(m.pi))\n",
    "print('小数点以下を切り捨てれば{}です'.format(m.floor(m.pi)))\n",
    "print('小数点以下を切り上げれば{}です'.format(m.ceil(m.pi)))"
   ]
  },
  {
   "cell_type": "code",
   "execution_count": 6,
   "id": "cb6823c3-d4e0-4988-aa6c-e63d236f996d",
   "metadata": {},
   "outputs": [
    {
     "name": "stdout",
     "output_type": "stream",
     "text": [
      "円周率は3.141592653589793\n",
      "小数点以下を切り捨てれば3です\n"
     ]
    }
   ],
   "source": [
    "from math import pi\n",
    "from math import floor\n",
    "print('円周率は{}'.format(pi))\n",
    "print('小数点以下を切り捨てれば{}です'.format(floor(pi)))"
   ]
  },
  {
   "cell_type": "code",
   "execution_count": 12,
   "id": "61751d11-930f-457c-9dc6-e804a750ba70",
   "metadata": {},
   "outputs": [
    {
     "name": "stdin",
     "output_type": "stream",
     "text": [
      "1個目の整数を入力してください>> 3\n",
      "2個目の整数を入力してください>> 5\n",
      "3個目の整数を入力してください>> 2\n"
     ]
    },
    {
     "name": "stdout",
     "output_type": "stream",
     "text": [
      "5\n"
     ]
    }
   ],
   "source": [
    "nums = list()\n",
    "for n in range(3):\n",
    "    data = int(input('{}個目の整数を入力してください>>'.format(n + 1)))\n",
    "    nums.append(data)\n",
    "print(max(nums))"
   ]
  },
  {
   "cell_type": "code",
   "execution_count": 13,
   "id": "1a1caf70-a486-4812-84fa-4614d077af2e",
   "metadata": {},
   "outputs": [
    {
     "name": "stdout",
     "output_type": "stream",
     "text": [
      "3\n",
      "3.1\n",
      "3.14\n",
      "3.142\n",
      "3.1416\n"
     ]
    }
   ],
   "source": [
    "pi = 3.141592\n",
    "print(round(pi))\n",
    "for n in range(4):\n",
    "    print(round(pi, n + 1))"
   ]
  },
  {
   "cell_type": "code",
   "execution_count": 21,
   "id": "e1002fbe-1b2b-4baa-9d21-ec85ece7286a",
   "metadata": {},
   "outputs": [
    {
     "name": "stdout",
     "output_type": "stream",
     "text": [
      "数当てゲームを始めます。3桁の数を当ててください!\n"
     ]
    },
    {
     "name": "stdin",
     "output_type": "stream",
     "text": [
      "1桁目の予想入力(0~9)>> 6\n",
      "2桁目の予想入力(0~9)>> 1\n",
      "3桁目の予想入力(0~9)>> 0\n"
     ]
    },
    {
     "name": "stdout",
     "output_type": "stream",
     "text": [
      "0ヒット!0ボール!\n"
     ]
    },
    {
     "name": "stdin",
     "output_type": "stream",
     "text": [
      "続けますか? 1:続ける 2:終了 >> 2\n"
     ]
    },
    {
     "name": "stdout",
     "output_type": "stream",
     "text": [
      "正解は548\n"
     ]
    }
   ],
   "source": [
    "from random import randint\n",
    "print('数当てゲームを始めます。3桁の数を当ててください!')\n",
    "\n",
    "answer = list()\n",
    "for n in range(3):\n",
    "    answer.append(randint(0, 9))\n",
    "    \n",
    "is_continue = True\n",
    "while is_continue == True:\n",
    "    prediction = list()\n",
    "    for n in range(3):\n",
    "        data = int(input('{}桁目の予想入力(0~9)>>'.format(n + 1)))\n",
    "        prediction.append(data)\n",
    "        \n",
    "    hit = 0\n",
    "    blow = 0\n",
    "    for n in range(3):\n",
    "        if prediction[n] == answer[n]:\n",
    "            hit += 1\n",
    "        else:\n",
    "            for m in range(3):\n",
    "                if prediction[n] == answer[m] and n != m:\n",
    "                    blow += 1\n",
    "                    \n",
    "    print('{}ヒット!{}ボール!'.format(hit, blow))\n",
    "    if hit == 3:\n",
    "        print('正解です!')\n",
    "        is_continue = False\n",
    "    else:\n",
    "        if int(input('続けますか? 1:続ける 2:終了 >>')) == 2:\n",
    "            print('正解は{}{}{}'.format(answer[0], answer[1], answer[2]))\n",
    "            is_continue = False"
   ]
  },
  {
   "cell_type": "code",
   "execution_count": null,
   "id": "af538005-0c3a-4ae1-ab8d-e16f1b4f88cb",
   "metadata": {},
   "outputs": [],
   "source": []
  }
 ],
 "metadata": {
  "kernelspec": {
   "display_name": "Python 3 (ipykernel)",
   "language": "python",
   "name": "python3"
  },
  "language_info": {
   "codemirror_mode": {
    "name": "ipython",
    "version": 3
   },
   "file_extension": ".py",
   "mimetype": "text/x-python",
   "name": "python",
   "nbconvert_exporter": "python",
   "pygments_lexer": "ipython3",
   "version": "3.9.12"
  }
 },
 "nbformat": 4,
 "nbformat_minor": 5
}
