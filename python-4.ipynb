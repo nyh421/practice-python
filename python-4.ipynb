{
 "cells": [
  {
   "cell_type": "code",
   "execution_count": 2,
   "id": "fe9eb78a-c319-430f-8c7d-8e3203dc7178",
   "metadata": {},
   "outputs": [
    {
     "name": "stdout",
     "output_type": "stream",
     "text": [
      "ひつじが1匹\n",
      "ひつじが2匹\n",
      "ひつじが3匹\n",
      "おやすみなさい・・・\n"
     ]
    }
   ],
   "source": [
    "count = 0\n",
    "while count < 3:\n",
    "    count += 1\n",
    "    print('ひつじが{}匹'.format(count))\n",
    "print('おやすみなさい・・・')"
   ]
  },
  {
   "cell_type": "code",
   "execution_count": 3,
   "id": "e6a2ab35-b7b9-4350-9f3c-4c222e3996ef",
   "metadata": {},
   "outputs": [
    {
     "name": "stdout",
     "output_type": "stream",
     "text": [
      "ひつじが1匹・・・\n"
     ]
    },
    {
     "name": "stdin",
     "output_type": "stream",
     "text": [
      "もう眠りそうですか?(y/n)>> f\n"
     ]
    },
    {
     "name": "stdout",
     "output_type": "stream",
     "text": [
      "ひつじが2匹・・・\n"
     ]
    },
    {
     "name": "stdin",
     "output_type": "stream",
     "text": [
      "もう眠りそうですか?(y/n)>> n\n"
     ]
    },
    {
     "name": "stdout",
     "output_type": "stream",
     "text": [
      "ひつじが3匹・・・\n"
     ]
    },
    {
     "name": "stdin",
     "output_type": "stream",
     "text": [
      "もう眠りそうですか?(y/n)>> y\n"
     ]
    },
    {
     "name": "stdout",
     "output_type": "stream",
     "text": [
      "おやすみなさい・・・\n"
     ]
    }
   ],
   "source": [
    "is_awake = True\n",
    "count = 0\n",
    "while is_awake == True:\n",
    "    count += 1\n",
    "    print('ひつじが{}匹・・・'.format(count))\n",
    "    key = input('もう眠りそうですか?(y/n)>>')\n",
    "    if key == 'y':\n",
    "        is_awake = False\n",
    "print('おやすみなさい・・・')"
   ]
  },
  {
   "cell_type": "code",
   "execution_count": 6,
   "id": "43ea69b1-0ee7-4446-a584-578a15b66aba",
   "metadata": {},
   "outputs": [
    {
     "name": "stdin",
     "output_type": "stream",
     "text": [
      "学生の数を入力>> 3\n",
      "1人目の試験の得点を入力>> 80\n",
      "2人目の試験の得点を入力>> 85\n",
      "3人目の試験の得点を入力>> 75\n"
     ]
    },
    {
     "name": "stdout",
     "output_type": "stream",
     "text": [
      "[80, 85, 75]\n",
      "平均点は80.0点です\n"
     ]
    }
   ],
   "source": [
    "count = 0\n",
    "student_num = int(input('学生の数を入力>>'))\n",
    "score_list = list()\n",
    "while count < student_num:\n",
    "    count += 1\n",
    "    score = int(input('{}人目の試験の得点を入力>>'.format(count)))\n",
    "    score_list.append(score)\n",
    "print(score_list)\n",
    "total = sum(score_list)\n",
    "print('平均点は{}点です'.format(total / student_num))"
   ]
  },
  {
   "cell_type": "code",
   "execution_count": 7,
   "id": "b1f908fa-ced4-4f7d-9d52-9263cb096287",
   "metadata": {},
   "outputs": [
    {
     "name": "stdout",
     "output_type": "stream",
     "text": [
      "合格\n",
      "不合格\n",
      "合格\n",
      "合格\n"
     ]
    }
   ],
   "source": [
    "scores = [80, 20, 75, 60]\n",
    "count = 0\n",
    "while count < len(scores):\n",
    "    if scores[count] >= 60:\n",
    "        print('合格')\n",
    "    else:\n",
    "        print('不合格')\n",
    "    count += 1"
   ]
  },
  {
   "cell_type": "code",
   "execution_count": 8,
   "id": "fac244f6-cc2f-4192-beda-35250a169863",
   "metadata": {},
   "outputs": [
    {
     "name": "stdout",
     "output_type": "stream",
     "text": [
      "合格\n",
      "不合格\n",
      "合格\n",
      "合格\n"
     ]
    }
   ],
   "source": [
    "scores = [80, 20, 75, 60]\n",
    "for data in scores:\n",
    "    if data >= 60:\n",
    "        print('合格')\n",
    "    else:\n",
    "        print('不合格')"
   ]
  },
  {
   "cell_type": "code",
   "execution_count": 9,
   "id": "e3eee49d-0be3-434d-a494-7962a076b859",
   "metadata": {},
   "outputs": [
    {
     "name": "stdout",
     "output_type": "stream",
     "text": [
      "pythonは楽しい\n",
      "pythonは楽しい\n",
      "pythonは楽しい\n"
     ]
    }
   ],
   "source": [
    "for num in range(3):\n",
    "    print('pythonは楽しい')"
   ]
  },
  {
   "cell_type": "code",
   "execution_count": 10,
   "id": "420ddd91-63d1-4947-9e94-d10d6f9b367e",
   "metadata": {},
   "outputs": [
    {
     "name": "stdout",
     "output_type": "stream",
     "text": [
      "[28, 20, 25, 22, 27]\n"
     ]
    }
   ],
   "source": [
    "ages = [28, 50, 8, 20, 78, 25, 22, 10, 27, 33]\n",
    "num = 5\n",
    "samples = list()\n",
    "for data in ages:\n",
    "    if data >= 20 and data < 30:\n",
    "        samples.append(data)\n",
    "        if len(samples) == num:\n",
    "            break\n",
    "print(samples)"
   ]
  },
  {
   "cell_type": "code",
   "execution_count": 11,
   "id": "5fef7918-03d5-4fcc-9a84-f74889de698d",
   "metadata": {},
   "outputs": [
    {
     "name": "stdout",
     "output_type": "stream",
     "text": [
      "[28, 20, 25, 22]\n"
     ]
    }
   ],
   "source": [
    "ages = [28, 50, 'ひみつ', 20, 78, 25, 22, 10, '無回答', 33]\n",
    "samples = list()\n",
    "for data in ages:\n",
    "    if not isinstance(data, int):\n",
    "        continue\n",
    "    if data < 20 or data >= 30:\n",
    "        continue\n",
    "    samples.append(data)\n",
    "print(samples)"
   ]
  },
  {
   "cell_type": "code",
   "execution_count": 17,
   "id": "a4fd293f-1a7b-4b0b-b668-c199f9852590",
   "metadata": {},
   "outputs": [
    {
     "name": "stdout",
     "output_type": "stream",
     "text": [
      "カレーを召し上がれ\n",
      "1皿のカレーを食べました\n"
     ]
    },
    {
     "name": "stdin",
     "output_type": "stream",
     "text": [
      "おかわりはいかがですか?(y/n)>> y\n"
     ]
    },
    {
     "name": "stdout",
     "output_type": "stream",
     "text": [
      "2皿のカレーを食べました\n"
     ]
    },
    {
     "name": "stdin",
     "output_type": "stream",
     "text": [
      "おかわりはいかがですか?(y/n)>> n\n"
     ]
    },
    {
     "name": "stdout",
     "output_type": "stream",
     "text": [
      "ごちそうさまでした\n"
     ]
    }
   ],
   "source": [
    "count = 1\n",
    "ans = True\n",
    "print('カレーを召し上がれ')\n",
    "while ans == True:\n",
    "    print('{}皿のカレーを食べました'.format(count))\n",
    "    key = input('おかわりはいかがですか?(y/n)>>')\n",
    "    if key == 'y':\n",
    "        count += 1\n",
    "    else:\n",
    "        ans = False\n",
    "print('ごちそうさまでした')"
   ]
  },
  {
   "cell_type": "code",
   "execution_count": 18,
   "id": "7a44a36b-873d-4d23-8cf1-ee7ae2136eb8",
   "metadata": {},
   "outputs": [
    {
     "name": "stdout",
     "output_type": "stream",
     "text": [
      "0、1、2、3、4、5、6、7、8、9、Lift off!\n"
     ]
    }
   ],
   "source": [
    "for n in range(10):\n",
    "    print('{}、'.format(n), end='')\n",
    "print('Lift off!')"
   ]
  },
  {
   "cell_type": "code",
   "execution_count": 19,
   "id": "8526b54c-ab2d-475b-9013-21bc0b803a86",
   "metadata": {},
   "outputs": [
    {
     "name": "stdout",
     "output_type": "stream",
     "text": [
      "1 X 1 = 1\n",
      "1 X 2 = 2\n",
      "1 X 3 = 3\n",
      "1 X 4 = 4\n",
      "1 X 5 = 5\n",
      "1 X 6 = 6\n",
      "1 X 7 = 7\n",
      "1 X 8 = 8\n",
      "1 X 9 = 9\n",
      "2 X 1 = 2\n",
      "2 X 2 = 4\n",
      "2 X 3 = 6\n",
      "2 X 4 = 8\n",
      "2 X 5 = 10\n",
      "2 X 6 = 12\n",
      "2 X 7 = 14\n",
      "2 X 8 = 16\n",
      "2 X 9 = 18\n",
      "3 X 1 = 3\n",
      "3 X 2 = 6\n",
      "3 X 3 = 9\n",
      "3 X 4 = 12\n",
      "3 X 5 = 15\n",
      "3 X 6 = 18\n",
      "3 X 7 = 21\n",
      "3 X 8 = 24\n",
      "3 X 9 = 27\n",
      "4 X 1 = 4\n",
      "4 X 2 = 8\n",
      "4 X 3 = 12\n",
      "4 X 4 = 16\n",
      "4 X 5 = 20\n",
      "4 X 6 = 24\n",
      "4 X 7 = 28\n",
      "4 X 8 = 32\n",
      "4 X 9 = 36\n",
      "5 X 1 = 5\n",
      "5 X 2 = 10\n",
      "5 X 3 = 15\n",
      "5 X 4 = 20\n",
      "5 X 5 = 25\n",
      "5 X 6 = 30\n",
      "5 X 7 = 35\n",
      "5 X 8 = 40\n",
      "5 X 9 = 45\n",
      "6 X 1 = 6\n",
      "6 X 2 = 12\n",
      "6 X 3 = 18\n",
      "6 X 4 = 24\n",
      "6 X 5 = 30\n",
      "6 X 6 = 36\n",
      "6 X 7 = 42\n",
      "6 X 8 = 48\n",
      "6 X 9 = 54\n",
      "7 X 1 = 7\n",
      "7 X 2 = 14\n",
      "7 X 3 = 21\n",
      "7 X 4 = 28\n",
      "7 X 5 = 35\n",
      "7 X 6 = 42\n",
      "7 X 7 = 49\n",
      "7 X 8 = 56\n",
      "7 X 9 = 63\n",
      "8 X 1 = 8\n",
      "8 X 2 = 16\n",
      "8 X 3 = 24\n",
      "8 X 4 = 32\n",
      "8 X 5 = 40\n",
      "8 X 6 = 48\n",
      "8 X 7 = 56\n",
      "8 X 8 = 64\n",
      "8 X 9 = 72\n",
      "9 X 1 = 9\n",
      "9 X 2 = 18\n",
      "9 X 3 = 27\n",
      "9 X 4 = 36\n",
      "9 X 5 = 45\n",
      "9 X 6 = 54\n",
      "9 X 7 = 63\n",
      "9 X 8 = 72\n",
      "9 X 9 = 81\n"
     ]
    }
   ],
   "source": [
    "for i in range(9):\n",
    "    for j in range(9):\n",
    "        print(f'{i + 1} X {j + 1} = {(i + 1) * (j + 1)}')"
   ]
  },
  {
   "cell_type": "code",
   "execution_count": 20,
   "id": "33c16a25-59f9-4560-91f9-b3eb2aab12ac",
   "metadata": {},
   "outputs": [
    {
     "name": "stdout",
     "output_type": "stream",
     "text": [
      "1 X 1 = 1\n",
      "1 X 2 = 2\n",
      "1 X 3 = 3\n",
      "1 X 4 = 4\n",
      "1 X 5 = 5\n",
      "1 X 6 = 6\n",
      "1 X 7 = 7\n",
      "1 X 8 = 8\n",
      "1 X 9 = 9\n",
      "3 X 1 = 3\n",
      "3 X 2 = 6\n",
      "3 X 3 = 9\n",
      "3 X 4 = 12\n",
      "3 X 5 = 15\n",
      "3 X 6 = 18\n",
      "3 X 7 = 21\n",
      "3 X 8 = 24\n",
      "3 X 9 = 27\n",
      "5 X 1 = 5\n",
      "5 X 2 = 10\n",
      "5 X 3 = 15\n",
      "5 X 4 = 20\n",
      "5 X 5 = 25\n",
      "5 X 6 = 30\n",
      "5 X 7 = 35\n",
      "5 X 8 = 40\n",
      "5 X 9 = 45\n",
      "7 X 1 = 7\n",
      "7 X 2 = 14\n",
      "7 X 3 = 21\n",
      "7 X 4 = 28\n",
      "7 X 5 = 35\n",
      "7 X 6 = 42\n",
      "7 X 7 = 49\n",
      "7 X 8 = 56\n",
      "7 X 9 = 63\n",
      "9 X 1 = 9\n",
      "9 X 2 = 18\n",
      "9 X 3 = 27\n",
      "9 X 4 = 36\n",
      "9 X 5 = 45\n",
      "9 X 6 = 54\n",
      "9 X 7 = 63\n",
      "9 X 8 = 72\n",
      "9 X 9 = 81\n"
     ]
    }
   ],
   "source": [
    "for i in range(9):\n",
    "    if (i + 1) % 2 == 0:\n",
    "        continue\n",
    "    for j in range(9):\n",
    "        print(f'{i + 1} X {j + 1} = {(i + 1) * (j + 1)}')"
   ]
  },
  {
   "cell_type": "code",
   "execution_count": 22,
   "id": "879d9133-b2b1-43ab-9d03-348caa1e5b05",
   "metadata": {},
   "outputs": [
    {
     "name": "stdout",
     "output_type": "stream",
     "text": [
      "1 X 1 = 1\n",
      "1 X 2 = 2\n",
      "1 X 3 = 3\n",
      "1 X 4 = 4\n",
      "1 X 5 = 5\n",
      "1 X 6 = 6\n",
      "1 X 7 = 7\n",
      "1 X 8 = 8\n",
      "1 X 9 = 9\n",
      "3 X 1 = 3\n",
      "3 X 2 = 6\n",
      "3 X 3 = 9\n",
      "3 X 4 = 12\n",
      "3 X 5 = 15\n",
      "3 X 6 = 18\n",
      "3 X 7 = 21\n",
      "3 X 8 = 24\n",
      "3 X 9 = 27\n",
      "5 X 1 = 5\n",
      "5 X 2 = 10\n",
      "5 X 3 = 15\n",
      "5 X 4 = 20\n",
      "5 X 5 = 25\n",
      "5 X 6 = 30\n",
      "5 X 7 = 35\n",
      "5 X 8 = 40\n",
      "5 X 9 = 45\n",
      "7 X 1 = 7\n",
      "7 X 2 = 14\n",
      "7 X 3 = 21\n",
      "7 X 4 = 28\n",
      "7 X 5 = 35\n",
      "7 X 6 = 42\n",
      "7 X 7 = 49\n",
      "9 X 1 = 9\n",
      "9 X 2 = 18\n",
      "9 X 3 = 27\n",
      "9 X 4 = 36\n",
      "9 X 5 = 45\n"
     ]
    }
   ],
   "source": [
    "for i in range(9):\n",
    "    if (i + 1) % 2 == 0:\n",
    "        continue\n",
    "    for j in range(9):\n",
    "        if (i + 1) * (j + 1) > 50:\n",
    "            break\n",
    "        print(f'{i + 1} X {j + 1} = {(i + 1) * (j + 1)}')"
   ]
  },
  {
   "cell_type": "code",
   "execution_count": 23,
   "id": "418e57bd-1c2d-4792-8b99-07f9561deae5",
   "metadata": {},
   "outputs": [
    {
     "name": "stdin",
     "output_type": "stream",
     "text": [
      "1個目のデータを入力>> 7.8\n",
      "2個目のデータを入力>> 9.1\n",
      "3個目のデータを入力>> 10.2\n",
      "4個目のデータを入力>> 11.0\n",
      "5個目のデータを入力>> 12.5\n",
      "6個目のデータを入力>> 12.4\n",
      "7個目のデータを入力>> 14.3\n",
      "8個目のデータを入力>> 13.8\n",
      "9個目のデータを入力>> 12.9\n",
      "10個目のデータを入力>> 12.4\n"
     ]
    }
   ],
   "source": [
    "temp = list()\n",
    "for n in range(10):\n",
    "    data = float(input('{}個目のデータを入力>>'.format(n + 1)))\n",
    "    temp.append(data)"
   ]
  },
  {
   "cell_type": "code",
   "execution_count": 24,
   "id": "7b429acb-91d8-4b98-af9b-c90149937fff",
   "metadata": {},
   "outputs": [
    {
     "name": "stdout",
     "output_type": "stream",
     "text": [
      "8時　7.8\n",
      "9時　9.1\n",
      "10時　10.2\n",
      "11時　11.0\n",
      "12時　12.5\n",
      "13時　12.4\n",
      "14時　14.3\n",
      "15時　13.8\n",
      "16時　12.9\n",
      "17時　12.4\n"
     ]
    }
   ],
   "source": [
    "for count in range(len(temp)):\n",
    "    print(f'{count + 8}時　{temp[count]}')"
   ]
  },
  {
   "cell_type": "code",
   "execution_count": 25,
   "id": "570bd717-916f-4edf-8c97-102f8ab9de7b",
   "metadata": {},
   "outputs": [
    {
     "name": "stdout",
     "output_type": "stream",
     "text": [
      "[7.8, 9.1, 10.2, 11.0, 12.5, 12.4, 14.3, 13.8, 12.9, 12.4]\n",
      "[7.8, 9.1, 10.2, 11.0, 12.5, 'N/A', 14.3, 13.8, 12.9, 12.4]\n"
     ]
    }
   ],
   "source": [
    "temp_new = list()\n",
    "for count in range(len(temp)):\n",
    "    if count == 5:\n",
    "        temp_new.append('N/A')\n",
    "    else:\n",
    "        temp_new.append(temp[count])\n",
    "print(temp)\n",
    "print(temp_new)"
   ]
  },
  {
   "cell_type": "code",
   "execution_count": 26,
   "id": "9fbbc40b-a4b0-4170-92b3-97d55c027e4e",
   "metadata": {},
   "outputs": [
    {
     "name": "stdout",
     "output_type": "stream",
     "text": [
      "11.555555555555555\n"
     ]
    }
   ],
   "source": [
    "total = 0\n",
    "for data in temp_new:\n",
    "    if isinstance(data, float):\n",
    "        total = total + data\n",
    "print(total / (len(temp_new) - 1))"
   ]
  },
  {
   "cell_type": "code",
   "execution_count": 27,
   "id": "caf09b06-04d8-4f74-a989-e879451c5848",
   "metadata": {},
   "outputs": [
    {
     "name": "stdout",
     "output_type": "stream",
     "text": [
      "[1, 1, 2, 3, 5, 8, 13, 21, 34, 55, 89, 144, 233, 377, 610, 987]\n"
     ]
    }
   ],
   "source": [
    "numbers = [1, 1]\n",
    "data = sum(numbers)\n",
    "count = 2\n",
    "while data <= 1000:\n",
    "    numbers.append(data)\n",
    "    data = data + numbers[count - 1]\n",
    "    count += 1\n",
    "print(numbers)"
   ]
  },
  {
   "cell_type": "code",
   "execution_count": 28,
   "id": "02793cd7-0af4-4454-aba5-9c0d10dec93d",
   "metadata": {},
   "outputs": [
    {
     "name": "stdout",
     "output_type": "stream",
     "text": [
      "[1, 1, 2, 3, 5, 8, 13, 21, 34, 55, 89, 144, 233, 377, 610, 987]\n"
     ]
    }
   ],
   "source": [
    "numbers = [1, 1]\n",
    "data = sum(numbers)\n",
    "count = 1\n",
    "while data <= 1000:\n",
    "    numbers.append(data)\n",
    "    data = data + numbers[count]\n",
    "    count += 1\n",
    "print(numbers)"
   ]
  },
  {
   "cell_type": "code",
   "execution_count": 29,
   "id": "a5cbd7c6-1e34-4403-9da5-49608d6c903c",
   "metadata": {},
   "outputs": [
    {
     "name": "stdout",
     "output_type": "stream",
     "text": [
      "[1.0, 2.0, 1.5, 1.6666666666666667, 1.6, 1.625, 1.6153846153846154, 1.619047619047619, 1.6176470588235294, 1.6181818181818182, 1.6179775280898876, 1.6180555555555556, 1.6180257510729614, 1.6180371352785146, 1.618032786885246]\n"
     ]
    }
   ],
   "source": [
    "ratios = list()\n",
    "for count in range(len(numbers)):\n",
    "    if count == len(numbers) - 1:\n",
    "        break\n",
    "    ratios.append(numbers[count + 1] / numbers[count])\n",
    "print(ratios)"
   ]
  },
  {
   "cell_type": "code",
   "execution_count": null,
   "id": "e964f4b8-1225-49ef-a65f-23c6728a421b",
   "metadata": {},
   "outputs": [],
   "source": [
    "for count in range(len(ratios)):\n",
    "    ratios[count] = int(ratios[count] * 1000) / 1000\n"
   ]
  }
 ],
 "metadata": {
  "kernelspec": {
   "display_name": "Python 3 (ipykernel)",
   "language": "python",
   "name": "python3"
  },
  "language_info": {
   "codemirror_mode": {
    "name": "ipython",
    "version": 3
   },
   "file_extension": ".py",
   "mimetype": "text/x-python",
   "name": "python",
   "nbconvert_exporter": "python",
   "pygments_lexer": "ipython3",
   "version": "3.9.12"
  }
 },
 "nbformat": 4,
 "nbformat_minor": 5
}
