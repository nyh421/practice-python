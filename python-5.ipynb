{
 "cells": [
  {
   "cell_type": "code",
   "execution_count": 1,
   "id": "fe9eb78a-c319-430f-8c7d-8e3203dc7178",
   "metadata": {},
   "outputs": [
    {
     "name": "stdout",
     "output_type": "stream",
     "text": [
      "こんにちは。工藤です。\n"
     ]
    }
   ],
   "source": [
    "def hello():\n",
    "    print('こんにちは。工藤です。')\n",
    "hello()"
   ]
  },
  {
   "cell_type": "code",
   "execution_count": 2,
   "id": "79bb9681-7a6d-4833-808a-8e0b2acd710d",
   "metadata": {},
   "outputs": [
    {
     "name": "stdout",
     "output_type": "stream",
     "text": [
      "こんにちは。浅木です。\n",
      "こんにちは。松田です。\n"
     ]
    }
   ],
   "source": [
    "def hello(name):\n",
    "    print('こんにちは。{}です。'.format(name))\n",
    "hello('浅木')\n",
    "hello('松田')"
   ]
  },
  {
   "cell_type": "code",
   "execution_count": 3,
   "id": "8e279a2d-ff2c-4917-8399-da28ea672fa7",
   "metadata": {},
   "outputs": [
    {
     "name": "stdout",
     "output_type": "stream",
     "text": [
      "私の名前は浅木です。\n",
      "年齢は24です。\n",
      "趣味はカフェ巡りです。\n"
     ]
    }
   ],
   "source": [
    "def profile(name, age, hobby):\n",
    "    print(f'私の名前は{name}です。')\n",
    "    print(f'年齢は{age}です。')\n",
    "    print(f'趣味は{hobby}です。')\n",
    "profile('浅木', 24, 'カフェ巡り')"
   ]
  },
  {
   "cell_type": "code",
   "execution_count": 4,
   "id": "5df3e184-21de-4de3-b38c-cbcfe974d149",
   "metadata": {},
   "outputs": [],
   "source": [
    "def plus(x, y):\n",
    "    answer = x + y\n",
    "    return answer"
   ]
  },
  {
   "cell_type": "code",
   "execution_count": 5,
   "id": "07abc9c3-51c7-488a-a624-bad62423d042",
   "metadata": {},
   "outputs": [
    {
     "name": "stdout",
     "output_type": "stream",
     "text": [
      "足し算の合計は150です\n"
     ]
    }
   ],
   "source": [
    "answer = plus(100, 50)\n",
    "print(f'足し算の合計は{answer}です')"
   ]
  },
  {
   "cell_type": "code",
   "execution_count": 7,
   "id": "93a6c736-7052-4bc0-bcff-aa4e735e3768",
   "metadata": {},
   "outputs": [],
   "source": [
    "def input_scores(name):\n",
    "    print('{}さんの試験結果を入力してください'.format(name))\n",
    "    network = int(input('ネットワークの得点?>>'))\n",
    "    database = int(input('データベースの得点?>>'))\n",
    "    security = int(input('セキュリティの得点?>>'))\n",
    "    scores = [network, database, security]\n",
    "    return scores\n",
    "\n",
    "def calc_average(scores):\n",
    "    avg = sum(scores) / len(scores)\n",
    "    return avg\n",
    "\n",
    "def output_result(name, avg):\n",
    "    print('{}さんの平均点は{}です'.format(name, avg))"
   ]
  },
  {
   "cell_type": "code",
   "execution_count": 8,
   "id": "ddf6bb07-98bb-472e-968e-69edba66299e",
   "metadata": {},
   "outputs": [
    {
     "name": "stdout",
     "output_type": "stream",
     "text": [
      "浅木さんの試験結果を入力してください\n"
     ]
    },
    {
     "name": "stdin",
     "output_type": "stream",
     "text": [
      "ネットワークの得点?>> 34\n",
      "データベースの得点?>> 53\n",
      "セキュリティの得点?>> 24\n"
     ]
    },
    {
     "name": "stdout",
     "output_type": "stream",
     "text": [
      "松田さんの試験結果を入力してください\n"
     ]
    },
    {
     "name": "stdin",
     "output_type": "stream",
     "text": [
      "ネットワークの得点?>> 45\n",
      "データベースの得点?>> 54\n",
      "セキュリティの得点?>> 33\n"
     ]
    },
    {
     "name": "stdout",
     "output_type": "stream",
     "text": [
      "浅木さんの平均点は37.0です\n",
      "松田さんの平均点は44.0です\n"
     ]
    }
   ],
   "source": [
    "asagi_scores = input_scores('浅木')\n",
    "matsuda_scores = input_scores('松田')\n",
    "\n",
    "asagi_avg = calc_average(asagi_scores)\n",
    "matsuda_avg = calc_average(matsuda_scores)\n",
    "\n",
    "output_result('浅木', asagi_avg)\n",
    "output_result('松田', matsuda_avg)"
   ]
  },
  {
   "cell_type": "code",
   "execution_count": 12,
   "id": "2efa772f-7f6e-4624-b9b6-6d6c54070a5e",
   "metadata": {},
   "outputs": [
    {
     "name": "stdout",
     "output_type": "stream",
     "text": [
      "1979\n",
      "1977\n"
     ]
    }
   ],
   "source": [
    "def plus_and_minus(a, b):\n",
    "    return a + b, a - b\n",
    "next, prev = plus_and_minus(1978, 1)\n",
    "print(next)\n",
    "print(prev)"
   ]
  },
  {
   "cell_type": "code",
   "execution_count": 13,
   "id": "88f08a0f-9e61-414e-8bcb-1d1e5faef7f3",
   "metadata": {},
   "outputs": [
    {
     "name": "stdout",
     "output_type": "stream",
     "text": [
      "朝はトーストを食べました\n",
      "昼はパスタを食べました\n",
      "晩はカレーを食べました\n",
      "おやつにアイスを食べました\n",
      "おやつにチョコを食べました\n",
      "おやつにカレーを食べました\n"
     ]
    }
   ],
   "source": [
    "def eat(breakfast, lunch, dinner = \"カレー\", *desserts):\n",
    "    print('朝は{}を食べました'.format(breakfast))\n",
    "    print('昼は{}を食べました'.format(lunch))\n",
    "    print('晩は{}を食べました'.format(dinner))\n",
    "    for d in desserts:\n",
    "        print('おやつに{}を食べました'.format(d))\n",
    "eat('トースト', 'パスタ', 'カレー', 'アイス', 'チョコ', 'カレー')"
   ]
  },
  {
   "cell_type": "code",
   "execution_count": 17,
   "id": "41c3eaaa-c8de-406f-af1c-ae91cb842275",
   "metadata": {},
   "outputs": [
    {
     "name": "stdout",
     "output_type": "stream",
     "text": [
      "朝食に納豆を食べました\n",
      "遅めの昼食にパスタを食べました\n",
      "夕方のおやつにカレーパンを食べました\n"
     ]
    }
   ],
   "source": [
    "def eat(**kwargs):\n",
    "    for key in kwargs:\n",
    "        print('{}に{}を食べました'.format(key, kwargs[key]))\n",
    "eat(朝食='納豆', 遅めの昼食='パスタ', 夕方のおやつ='カレーパン')"
   ]
  },
  {
   "cell_type": "code",
   "execution_count": 18,
   "id": "9b25cbca-d7d7-4693-a5fa-68bac285ce36",
   "metadata": {},
   "outputs": [
    {
     "name": "stdout",
     "output_type": "stream",
     "text": [
      "こんにちは浅木さん\n"
     ]
    }
   ],
   "source": [
    "name = '松田'\n",
    "def change_name():\n",
    "    global name\n",
    "    name = '浅木'\n",
    "def hello():\n",
    "    print('こんにちは' + name + 'さん')\n",
    "change_name()\n",
    "hello()"
   ]
  },
  {
   "cell_type": "code",
   "execution_count": 20,
   "id": "ca3fa205-dfcd-4ee5-993f-aecef2711d48",
   "metadata": {},
   "outputs": [
    {
     "name": "stdin",
     "output_type": "stream",
     "text": [
      "現在の西暦を入力してください>> 2024\n"
     ]
    },
    {
     "name": "stdout",
     "output_type": "stream",
     "text": [
      "西暦2024年は、うるう年です\n"
     ]
    }
   ],
   "source": [
    "def is_leapyear(y):\n",
    "    return(y % 400 == 0 or (y % 4 == 0 and y % 100 != 0))\n",
    "\n",
    "current_year = int(input('現在の西暦を入力してください>>'))\n",
    "\n",
    "if is_leapyear(current_year):\n",
    "    print('西暦{}年は、うるう年です'.format(current_year))\n",
    "else:\n",
    "    print('西暦{}は、うるう年ではありません'.format(current_year))\n"
   ]
  },
  {
   "cell_type": "code",
   "execution_count": 21,
   "id": "9b0f3f56-1281-4646-86f4-0e7d74d50d2e",
   "metadata": {},
   "outputs": [
    {
     "name": "stdin",
     "output_type": "stream",
     "text": [
      "支払総額を入力してください 1000\n",
      "参加人数を入力してください 3\n"
     ]
    },
    {
     "name": "stdout",
     "output_type": "stream",
     "text": [
      "***支払額***\n",
      "1人あたり400円(2人)、幹事は200円です\n"
     ]
    }
   ],
   "source": [
    "def int_input(msg):\n",
    "    return int(input('{}を入力してください'.format(msg)))\n",
    "\n",
    "def calc_payment(amount, people=2):\n",
    "    dnum = amount / people\n",
    "    pay = dnum // 100 * 100\n",
    "    if dnum > pay:\n",
    "        pay = pay + 100\n",
    "    payorg = amount - pay * (people - 1)\n",
    "    return [int(pay), int(payorg)]\n",
    "\n",
    "def show_payment(pay, payorg, people=2):\n",
    "    print('***支払額***')\n",
    "    print('1人あたり{}円({}人)、幹事は{}円です'.format(pay, people - 1, payorg))\n",
    "    \n",
    "amount = int_input('支払総額'); people = int_input('参加人数')\n",
    "\n",
    "[pay, payorg] = calc_payment(amount, people)\n",
    "\n",
    "show_payment(pay, payorg, people)"
   ]
  },
  {
   "cell_type": "code",
   "execution_count": 24,
   "id": "d81a7c68-877c-46fd-aa01-14dc8c8f52b3",
   "metadata": {},
   "outputs": [
    {
     "name": "stdin",
     "output_type": "stream",
     "text": [
      "名前と血液型をカンマで区切って1行で入力>> 佐藤,b\n"
     ]
    },
    {
     "name": "stdout",
     "output_type": "stream",
     "text": [
      "佐藤さんはB型なので大吉です\n"
     ]
    }
   ],
   "source": [
    "userinfo = input('名前と血液型をカンマで区切って1行で入力>>')\n",
    "[name, blood] = userinfo.split(',')\n",
    "blood = blood.upper()\n",
    "print('{}さんは{}型なので大吉です'.format(name, blood))"
   ]
  },
  {
   "cell_type": "code",
   "execution_count": null,
   "id": "1c0bffcc-1399-44eb-9b70-8b1759bf8b6a",
   "metadata": {},
   "outputs": [],
   "source": []
  }
 ],
 "metadata": {
  "kernelspec": {
   "display_name": "Python 3 (ipykernel)",
   "language": "python",
   "name": "python3"
  },
  "language_info": {
   "codemirror_mode": {
    "name": "ipython",
    "version": 3
   },
   "file_extension": ".py",
   "mimetype": "text/x-python",
   "name": "python",
   "nbconvert_exporter": "python",
   "pygments_lexer": "ipython3",
   "version": "3.9.12"
  }
 },
 "nbformat": 4,
 "nbformat_minor": 5
}
