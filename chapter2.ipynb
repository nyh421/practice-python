{
 "cells": [
  {
   "cell_type": "code",
   "execution_count": 1,
   "id": "fe9eb78a-c319-430f-8c7d-8e3203dc7178",
   "metadata": {},
   "outputs": [
    {
     "name": "stdout",
     "output_type": "stream",
     "text": [
      "合計点 412\n",
      "平均点 82.4\n"
     ]
    }
   ],
   "source": [
    "scores = [70, 98, 92, 88, 64,]\n",
    "total = sum(scores)\n",
    "average = total / len(scores)\n",
    "print(\"合計点\", total)\n",
    "print(\"平均点\", average)"
   ]
  },
  {
   "cell_type": "code",
   "execution_count": 2,
   "id": "58ecf6c7-698d-470f-870e-46463eecd047",
   "metadata": {},
   "outputs": [
    {
     "name": "stdout",
     "output_type": "stream",
     "text": [
      "55\n"
     ]
    }
   ],
   "source": [
    "def addup(n):\n",
    "    a = 0\n",
    "    for i in range(1, n + 1):\n",
    "        a += i\n",
    "    return a\n",
    "\n",
    "print(addup(10))"
   ]
  },
  {
   "cell_type": "code",
   "execution_count": 3,
   "id": "6bdbbb6d-47f4-4dd1-9604-cc7afebcf90a",
   "metadata": {},
   "outputs": [
    {
     "name": "stdout",
     "output_type": "stream",
     "text": [
      "55\n"
     ]
    }
   ],
   "source": [
    "def addup_other(n):\n",
    "    a = (1 + n) * n / 2\n",
    "    return int(a)\n",
    "\n",
    "print(addup_other(10))"
   ]
  },
  {
   "cell_type": "code",
   "execution_count": 5,
   "id": "d4c0c19e-95c8-4889-996f-695e24957090",
   "metadata": {},
   "outputs": [
    {
     "name": "stdout",
     "output_type": "stream",
     "text": [
      "1 x 1 = 1\n",
      "1 x 2 = 2\n",
      "1 x 3 = 3\n",
      "1 x 4 = 4\n",
      "1 x 5 = 5\n",
      "1 x 6 = 6\n",
      "1 x 7 = 7\n",
      "1 x 8 = 8\n",
      "1 x 9 = 9\n",
      "2 x 1 = 2\n",
      "2 x 2 = 4\n",
      "2 x 3 = 6\n",
      "2 x 4 = 8\n",
      "2 x 5 = 10\n",
      "2 x 6 = 12\n",
      "2 x 7 = 14\n",
      "2 x 8 = 16\n",
      "2 x 9 = 18\n",
      "3 x 1 = 3\n",
      "3 x 2 = 6\n",
      "3 x 3 = 9\n",
      "3 x 4 = 12\n",
      "3 x 5 = 15\n",
      "3 x 6 = 18\n",
      "3 x 7 = 21\n",
      "3 x 8 = 24\n",
      "3 x 9 = 27\n",
      "4 x 1 = 4\n",
      "4 x 2 = 8\n",
      "4 x 3 = 12\n",
      "4 x 4 = 16\n",
      "4 x 5 = 20\n",
      "4 x 6 = 24\n",
      "4 x 7 = 28\n",
      "4 x 8 = 32\n",
      "4 x 9 = 36\n",
      "5 x 1 = 5\n",
      "5 x 2 = 10\n",
      "5 x 3 = 15\n",
      "5 x 4 = 20\n",
      "5 x 5 = 25\n",
      "5 x 6 = 30\n",
      "5 x 7 = 35\n",
      "5 x 8 = 40\n",
      "5 x 9 = 45\n",
      "6 x 1 = 6\n",
      "6 x 2 = 12\n",
      "6 x 3 = 18\n",
      "6 x 4 = 24\n",
      "6 x 5 = 30\n",
      "6 x 6 = 36\n",
      "6 x 7 = 42\n",
      "6 x 8 = 48\n",
      "6 x 9 = 54\n",
      "7 x 1 = 7\n",
      "7 x 2 = 14\n",
      "7 x 3 = 21\n",
      "7 x 4 = 28\n",
      "7 x 5 = 35\n",
      "7 x 6 = 42\n",
      "7 x 7 = 49\n",
      "7 x 8 = 56\n",
      "7 x 9 = 63\n",
      "8 x 1 = 8\n",
      "8 x 2 = 16\n",
      "8 x 3 = 24\n",
      "8 x 4 = 32\n",
      "8 x 5 = 40\n",
      "8 x 6 = 48\n",
      "8 x 7 = 56\n",
      "8 x 8 = 64\n",
      "8 x 9 = 72\n",
      "9 x 1 = 9\n",
      "9 x 2 = 18\n",
      "9 x 3 = 27\n",
      "9 x 4 = 36\n",
      "9 x 5 = 45\n",
      "9 x 6 = 54\n",
      "9 x 7 = 63\n",
      "9 x 8 = 72\n",
      "9 x 9 = 81\n"
     ]
    }
   ],
   "source": [
    "for i in range(1, 10):\n",
    "    for j in range(1, 10):\n",
    "        print(i, \"x\", j, \"=\", i * j)"
   ]
  },
  {
   "cell_type": "code",
   "execution_count": 18,
   "id": "e4ea740f-546e-490b-927b-3274cdb27611",
   "metadata": {},
   "outputs": [
    {
     "name": "stdout",
     "output_type": "stream",
     "text": [
      "1 x 1 =  1  2 x 1 =  2  3 x 1 =  3  4 x 1 =  4  5 x 1 =  5  6 x 1 =  6  7 x 1 =  7  8 x 1 =  8  9 x 1 =  9  \n",
      "1 x 2 =  2  2 x 2 =  4  3 x 2 =  6  4 x 2 =  8  5 x 2 = 10  6 x 2 = 12  7 x 2 = 14  8 x 2 = 16  9 x 2 = 18  \n",
      "1 x 3 =  3  2 x 3 =  6  3 x 3 =  9  4 x 3 = 12  5 x 3 = 15  6 x 3 = 18  7 x 3 = 21  8 x 3 = 24  9 x 3 = 27  \n",
      "1 x 4 =  4  2 x 4 =  8  3 x 4 = 12  4 x 4 = 16  5 x 4 = 20  6 x 4 = 24  7 x 4 = 28  8 x 4 = 32  9 x 4 = 36  \n",
      "1 x 5 =  5  2 x 5 = 10  3 x 5 = 15  4 x 5 = 20  5 x 5 = 25  6 x 5 = 30  7 x 5 = 35  8 x 5 = 40  9 x 5 = 45  \n",
      "1 x 6 =  6  2 x 6 = 12  3 x 6 = 18  4 x 6 = 24  5 x 6 = 30  6 x 6 = 36  7 x 6 = 42  8 x 6 = 48  9 x 6 = 54  \n",
      "1 x 7 =  7  2 x 7 = 14  3 x 7 = 21  4 x 7 = 28  5 x 7 = 35  6 x 7 = 42  7 x 7 = 49  8 x 7 = 56  9 x 7 = 63  \n",
      "1 x 8 =  8  2 x 8 = 16  3 x 8 = 24  4 x 8 = 32  5 x 8 = 40  6 x 8 = 48  7 x 8 = 56  8 x 8 = 64  9 x 8 = 72  \n",
      "1 x 9 =  9  2 x 9 = 18  3 x 9 = 27  4 x 9 = 36  5 x 9 = 45  6 x 9 = 54  7 x 9 = 63  8 x 9 = 72  9 x 9 = 81  \n"
     ]
    }
   ],
   "source": [
    "for i in range(1, 10):\n",
    "    k = \"\"\n",
    "    for j in range(1, 10):\n",
    "        k = k + \"{} x {} = {:2d}  \".format(j, i, i * j)\n",
    "    print(k)"
   ]
  },
  {
   "cell_type": "code",
   "execution_count": 21,
   "id": "0c22bdcc-1ff5-4795-aa16-232595575760",
   "metadata": {},
   "outputs": [
    {
     "name": "stdout",
     "output_type": "stream",
     "text": [
      "2,3,5,7,11,13,17,19,23,29,31,37,41,43,47,53,59,61,67,71,73,79,83,89,97,"
     ]
    }
   ],
   "source": [
    "for i in range(2, 101):\n",
    "    h = i // 2\n",
    "    f = True\n",
    "    for j in range(2, h + 1):\n",
    "        if i % j == 0:\n",
    "            f = False\n",
    "            break\n",
    "    if f == True:\n",
    "        print(i, end = \",\")"
   ]
  },
  {
   "cell_type": "code",
   "execution_count": 22,
   "id": "08b153aa-8348-42dd-8af2-ab686c6c8e54",
   "metadata": {},
   "outputs": [
    {
     "name": "stdout",
     "output_type": "stream",
     "text": [
      "10! = 3628800\n"
     ]
    }
   ],
   "source": [
    "a = 10\n",
    "for i in range(9, 0, -1):\n",
    "    a = a * i\n",
    "print(\"10! =\", a)"
   ]
  },
  {
   "cell_type": "code",
   "execution_count": 23,
   "id": "1f61236d-b733-406a-ba5b-e69dc85d5208",
   "metadata": {},
   "outputs": [
    {
     "name": "stdout",
     "output_type": "stream",
     "text": [
      "0! = 1\n",
      "1! = 1\n",
      "2! = 2\n",
      "3! = 6\n",
      "4! = 24\n",
      "5! = 120\n",
      "6! = 720\n",
      "7! = 5040\n",
      "8! = 40320\n",
      "9! = 362880\n",
      "10! = 3628800\n",
      "11! = 39916800\n",
      "12! = 479001600\n",
      "13! = 6227020800\n",
      "14! = 87178291200\n",
      "15! = 1307674368000\n",
      "16! = 20922789888000\n",
      "17! = 355687428096000\n",
      "18! = 6402373705728000\n",
      "19! = 121645100408832000\n",
      "20! = 2432902008176640000\n"
     ]
    }
   ],
   "source": [
    "def fact(n):\n",
    "    if n == 0:\n",
    "        return 1\n",
    "    else:\n",
    "        return n * fact(n - 1)\n",
    "\n",
    "for i in range(0, 21):\n",
    "    print(\"{}! = {}\".format(str(i), fact(i)))"
   ]
  },
  {
   "cell_type": "code",
   "execution_count": 25,
   "id": "a536edbe-bc79-4c9e-8947-d4deb0547fe1",
   "metadata": {},
   "outputs": [
    {
     "name": "stdout",
     "output_type": "stream",
     "text": [
      "12\n"
     ]
    }
   ],
   "source": [
    "total = 0\n",
    "for i in range(5):\n",
    "    if i == 4:\n",
    "        total = total * 2\n",
    "    else:\n",
    "        total = total + i\n",
    "print(total)"
   ]
  },
  {
   "cell_type": "code",
   "execution_count": 26,
   "id": "9c6e15f2-1270-4189-9209-a0a6eeadc083",
   "metadata": {},
   "outputs": [
    {
     "name": "stdout",
     "output_type": "stream",
     "text": [
      "10は偶数です\n",
      "-5は奇数です\n",
      "0は偶数です\n",
      "29は奇数です\n",
      "6は偶数です\n",
      "2は偶数です\n",
      "77は奇数です\n",
      "8は偶数です\n"
     ]
    }
   ],
   "source": [
    "a = [10, -5, 0, 29, 6, 2, 77, 8]\n",
    "for num in a:\n",
    "    if num % 2 == 0:\n",
    "        print(\"{}は偶数です\".format(num))\n",
    "    else:\n",
    "        print(\"{}は奇数です\".format(num))\n"
   ]
  },
  {
   "cell_type": "code",
   "execution_count": 27,
   "id": "484101dc-88c9-4ebc-b819-7f1cd5bf7ccb",
   "metadata": {},
   "outputs": [
    {
     "name": "stdout",
     "output_type": "stream",
     "text": [
      "3の1乗と2の1乗の差は1\n",
      "3の2乗と2の2乗の差は5\n",
      "3の3乗と2の3乗の差は19\n",
      "3の4乗と2の4乗の差は65\n",
      "3の5乗と2の5乗の差は211\n"
     ]
    }
   ],
   "source": [
    "for n in range(1, 6):\n",
    "    v1 = 3 ** n\n",
    "    v2 = 2 ** n\n",
    "    print(\"3の{}乗と2の{}乗の差は{}\".format(n, n, v1 - v2))"
   ]
  },
  {
   "cell_type": "code",
   "execution_count": null,
   "id": "a3f3739e-3959-4cf5-b7f7-3ac3d9dfba84",
   "metadata": {},
   "outputs": [],
   "source": []
  }
 ],
 "metadata": {
  "kernelspec": {
   "display_name": "Python 3 (ipykernel)",
   "language": "python",
   "name": "python3"
  },
  "language_info": {
   "codemirror_mode": {
    "name": "ipython",
    "version": 3
   },
   "file_extension": ".py",
   "mimetype": "text/x-python",
   "name": "python",
   "nbconvert_exporter": "python",
   "pygments_lexer": "ipython3",
   "version": "3.9.12"
  }
 },
 "nbformat": 4,
 "nbformat_minor": 5
}
