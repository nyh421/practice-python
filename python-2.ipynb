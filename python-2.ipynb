{
 "cells": [
  {
   "cell_type": "code",
   "execution_count": 7,
   "id": "fe9eb78a-c319-430f-8c7d-8e3203dc7178",
   "metadata": {},
   "outputs": [
    {
     "name": "stdout",
     "output_type": "stream",
     "text": [
      "['工藤', '松田', '浅木']\n"
     ]
    }
   ],
   "source": [
    "members = ['工藤', '松田', '浅木']\n",
    "print(menbers)"
   ]
  },
  {
   "cell_type": "code",
   "execution_count": 8,
   "id": "7f19ccc1-86cd-4248-aa66-d8bdfb43de07",
   "metadata": {},
   "outputs": [
    {
     "name": "stdout",
     "output_type": "stream",
     "text": [
      "工藤\n"
     ]
    }
   ],
   "source": [
    "print(members[0])"
   ]
  },
  {
   "cell_type": "code",
   "execution_count": 5,
   "id": "0becdb48-06c2-4891-9e25-6cb122d66c9e",
   "metadata": {},
   "outputs": [
    {
     "name": "stdout",
     "output_type": "stream",
     "text": [
      "合計273点\n"
     ]
    }
   ],
   "source": [
    "scores = [88, 90, 95]\n",
    "total = sum(scores)\n",
    "print('合計{}点'.format(total))"
   ]
  },
  {
   "cell_type": "code",
   "execution_count": 6,
   "id": "8d840659-e7e4-447e-bfc2-7f11d48d6d20",
   "metadata": {},
   "outputs": [
    {
     "name": "stdout",
     "output_type": "stream",
     "text": [
      "合計273点、平均91.0点\n"
     ]
    }
   ],
   "source": [
    "avg = total / len(scores)\n",
    "print('合計{}点、平均{}点'.format(total, avg))"
   ]
  },
  {
   "cell_type": "code",
   "execution_count": 9,
   "id": "65151f6a-bd78-4b33-8ccb-1e5bc5c43272",
   "metadata": {},
   "outputs": [
    {
     "name": "stdout",
     "output_type": "stream",
     "text": [
      "['工藤', '松田', '浅木', '菅原', '湊', '朝香']\n"
     ]
    }
   ],
   "source": [
    "members.append('菅原')\n",
    "members.append('湊')\n",
    "members.append('朝香')\n",
    "print(members)"
   ]
  },
  {
   "cell_type": "code",
   "execution_count": 10,
   "id": "d63687aa-a597-4b70-976c-4b56f44c7cbc",
   "metadata": {},
   "outputs": [
    {
     "name": "stdout",
     "output_type": "stream",
     "text": [
      "['工藤', '浅木', '菅原', '湊', '朝香']\n"
     ]
    }
   ],
   "source": [
    "members.remove('松田')\n",
    "print(members)"
   ]
  },
  {
   "cell_type": "code",
   "execution_count": 11,
   "id": "802c1ef4-9bd4-4056-ae10-fdf932afc552",
   "metadata": {},
   "outputs": [
    {
     "name": "stdout",
     "output_type": "stream",
     "text": [
      "['松田', '浅木', '菅原', '湊', '朝香']\n"
     ]
    }
   ],
   "source": [
    "members[0] = '松田'\n",
    "print(members)"
   ]
  },
  {
   "cell_type": "code",
   "execution_count": 12,
   "id": "2bbfa1d1-cee9-40a5-a85a-ca281fddc32d",
   "metadata": {},
   "outputs": [
    {
     "name": "stdout",
     "output_type": "stream",
     "text": [
      "[20, 30]\n",
      "[30, 40, 50]\n",
      "[10, 20, 30]\n"
     ]
    }
   ],
   "source": [
    "a = [10, 20, 30, 40, 50]\n",
    "print(a[1:3])\n",
    "print(a[2:])\n",
    "print(a[:3])"
   ]
  },
  {
   "cell_type": "code",
   "execution_count": 14,
   "id": "cd3d9521-19fe-437c-9961-0eef94e00250",
   "metadata": {},
   "outputs": [
    {
     "name": "stdout",
     "output_type": "stream",
     "text": [
      "50\n",
      "40\n"
     ]
    }
   ],
   "source": [
    "print(a[-1])\n",
    "print(a[-2])"
   ]
  },
  {
   "cell_type": "code",
   "execution_count": 15,
   "id": "0e80f464-5b8c-4175-95cd-cff48b108d2e",
   "metadata": {},
   "outputs": [
    {
     "name": "stdout",
     "output_type": "stream",
     "text": [
      "{'network': 60, 'database': 80, 'security': 50}\n"
     ]
    }
   ],
   "source": [
    "scores = {'network': 60, 'database': 80, 'security': 50}\n",
    "print(scores)"
   ]
  },
  {
   "cell_type": "code",
   "execution_count": 16,
   "id": "900fb227-dd87-415c-8d4e-5c27f3270cf1",
   "metadata": {},
   "outputs": [
    {
     "name": "stdout",
     "output_type": "stream",
     "text": [
      "80\n"
     ]
    }
   ],
   "source": [
    "print(scores['database'])"
   ]
  },
  {
   "cell_type": "code",
   "execution_count": 17,
   "id": "c36530a9-ad81-44fe-9fd6-78506e5da707",
   "metadata": {},
   "outputs": [
    {
     "name": "stdout",
     "output_type": "stream",
     "text": [
      "{'network': 60, 'database': 80, 'security': 55, 'programming': 65}\n"
     ]
    }
   ],
   "source": [
    "scores['programming'] = 65\n",
    "scores['security'] = 55\n",
    "print(scores)"
   ]
  },
  {
   "cell_type": "code",
   "execution_count": 18,
   "id": "a132f2b1-f301-4c34-8c68-15cfb78f711c",
   "metadata": {},
   "outputs": [
    {
     "name": "stdout",
     "output_type": "stream",
     "text": [
      "{'network': 60, 'database': 80, 'programming': 65}\n"
     ]
    }
   ],
   "source": [
    "del scores['security']\n",
    "print(scores)"
   ]
  },
  {
   "cell_type": "code",
   "execution_count": 20,
   "id": "44e9c4dc-431b-497f-b4d7-729e688361bb",
   "metadata": {},
   "outputs": [
    {
     "name": "stdout",
     "output_type": "stream",
     "text": [
      "205\n"
     ]
    }
   ],
   "source": [
    "total = sum(scores.values())\n",
    "print(total)"
   ]
  },
  {
   "cell_type": "code",
   "execution_count": 21,
   "id": "f0680347-daca-4947-8d6d-cc5959b9a38c",
   "metadata": {},
   "outputs": [
    {
     "name": "stdout",
     "output_type": "stream",
     "text": [
      "(70, 80, 55)\n",
      "70\n",
      "要素数は3\n",
      "合計は205\n"
     ]
    }
   ],
   "source": [
    "scores = (70, 80, 55)\n",
    "print(scores)\n",
    "print(scores[0])\n",
    "print('要素数は{}'.format(len(scores)))\n",
    "print('合計は{}'.format(sum(scores)))"
   ]
  },
  {
   "cell_type": "code",
   "execution_count": 22,
   "id": "b2e5f593-9615-434f-acfe-7f61c0016492",
   "metadata": {},
   "outputs": [
    {
     "name": "stdout",
     "output_type": "stream",
     "text": [
      "{80, 70, 55}\n",
      "要素数は3\n",
      "合計は205\n"
     ]
    }
   ],
   "source": [
    "scores = {70, 80, 55, 80}\n",
    "scores.add(80)\n",
    "print(scores)\n",
    "print('要素数は{}'.format(len(scores)))\n",
    "print(f'合計は{sum(scores)}')"
   ]
  },
  {
   "cell_type": "code",
   "execution_count": 23,
   "id": "bbc0ef1b-c12c-4f6f-b4d6-3c77a14aa565",
   "metadata": {},
   "outputs": [
    {
     "name": "stdout",
     "output_type": "stream",
     "text": [
      "('松田', '浅木', '工藤')\n",
      "['network', 'database', 'security']\n",
      "{80, 60}\n"
     ]
    }
   ],
   "source": [
    "scores = {'network': 60, 'database': 80, 'security': 60}\n",
    "members = ['松田', '浅木', '工藤']\n",
    "print(tuple(members))\n",
    "print(list(scores))\n",
    "print(set(scores.values()))"
   ]
  },
  {
   "cell_type": "code",
   "execution_count": 25,
   "id": "a68eaa54-23c5-44ec-9f75-d5204b2c693a",
   "metadata": {},
   "outputs": [
    {
     "name": "stdout",
     "output_type": "stream",
     "text": [
      "{'松田': {'network': 60, 'database': 80, 'security': 50}, '浅木': {'network': 80, 'database': 75, 'security': 92}}\n"
     ]
    }
   ],
   "source": [
    "matsuda_scores = {'network': 60, 'database': 80, 'security': 50}\n",
    "asagi_scores = {'network': 80, 'database': 75, 'security': 92}\n",
    "member_scores = {'松田': matsuda_scores, '浅木': asagi_scores}\n",
    "print(member_scores)"
   ]
  },
  {
   "cell_type": "code",
   "execution_count": 26,
   "id": "9507c1f6-938c-46ec-87e8-a54d90924110",
   "metadata": {},
   "outputs": [
    {
     "name": "stdout",
     "output_type": "stream",
     "text": [
      "{'松田': {'麻雀', 'SNS', '自転車'}, '浅木': {'数学', '食べ歩き', '麻雀'}}\n",
      "{'麻雀', 'SNS', '自転車'}\n",
      "{'数学', '食べ歩き', '麻雀'}\n"
     ]
    }
   ],
   "source": [
    "member_hobbies = {\n",
    "    '松田': {'SNS', '麻雀', '自転車'},\n",
    "    '浅木': {'麻雀', '食べ歩き', '数学'}\n",
    "}\n",
    "print(member_hobbies)\n",
    "print(member_hobbies['松田'])\n",
    "print(member_hobbies['浅木'])"
   ]
  },
  {
   "cell_type": "code",
   "execution_count": 27,
   "id": "0746cd4b-47da-4a6c-b85f-89cf62812fbe",
   "metadata": {},
   "outputs": [
    {
     "name": "stdout",
     "output_type": "stream",
     "text": [
      "[[1, 2, 3], [4, 5, 6]]\n",
      "[1, 2, 3]\n",
      "6\n"
     ]
    }
   ],
   "source": [
    "a = [1, 2, 3]\n",
    "b = [4, 5, 6]\n",
    "c = [a, b]\n",
    "print(c)\n",
    "print(c[0])\n",
    "print(c[1][2])"
   ]
  },
  {
   "cell_type": "code",
   "execution_count": 28,
   "id": "f6872e9a-3d39-4603-9126-b3b0da83350d",
   "metadata": {},
   "outputs": [
    {
     "name": "stdout",
     "output_type": "stream",
     "text": [
      "{'麻雀'}\n"
     ]
    }
   ],
   "source": [
    "common_hobbies = member_hobbies['松田'] & member_hobbies['浅木']\n",
    "print(common_hobbies)"
   ]
  },
  {
   "cell_type": "code",
   "execution_count": 29,
   "id": "491cb264-1d4d-4454-b9c4-b525156bdf02",
   "metadata": {},
   "outputs": [
    {
     "name": "stdout",
     "output_type": "stream",
     "text": [
      "{1, 2, 3, 4, 5}\n",
      "{2, 3, 4}\n",
      "{1}\n",
      "{1, 5}\n"
     ]
    }
   ],
   "source": [
    "A = {1, 2, 3, 4}\n",
    "B = {2, 3, 4, 5}\n",
    "print(A | B)\n",
    "print(A & B)\n",
    "print(A - B)\n",
    "print(A ^ B)"
   ]
  },
  {
   "cell_type": "code",
   "execution_count": 33,
   "id": "b1da3388-fbb1-45b9-9015-07bce8b73527",
   "metadata": {},
   "outputs": [
    {
     "name": "stdin",
     "output_type": "stream",
     "text": [
      "国語の点数>> 10\n",
      "算数の点数>> 11\n",
      "理科の点数>> 11\n",
      "社会の点数>> 11\n",
      "英語の点数>> 3\n"
     ]
    },
    {
     "name": "stdout",
     "output_type": "stream",
     "text": [
      "合計46点/平均9.2\n"
     ]
    }
   ],
   "source": [
    "scores = []\n",
    "scores.append(int(input('国語の点数>>')))\n",
    "scores.append(int(input('算数の点数>>')))\n",
    "scores.append(int(input('理科の点数>>')))\n",
    "scores.append(int(input('社会の点数>>')))\n",
    "scores.append(int(input('英語の点数>>')))\n",
    "print(f'合計{sum(scores)}点/平均{sum(scores) / len(scores)}')"
   ]
  },
  {
   "cell_type": "code",
   "execution_count": 34,
   "id": "915289a8-b36d-4016-ae66-bdd75a0f522a",
   "metadata": {},
   "outputs": [
    {
     "name": "stdout",
     "output_type": "stream",
     "text": [
      "相性度は25.0パーセントでした\n"
     ]
    }
   ],
   "source": [
    "player1 = {'読書', '昼寝', '映画鑑賞', '散歩', '料理'}\n",
    "player2 = {'テニス', '将棋', '料理', '読書', '旅行'}\n",
    "common = player1 & player2\n",
    "total = player1 | player2\n",
    "compatibility_rate = len(common) / len(total) * 100\n",
    "print(f'相性度は{compatibility_rate}パーセントでした')"
   ]
  },
  {
   "cell_type": "code",
   "execution_count": null,
   "id": "8cbf322f-764d-4841-9077-c485c8b648e8",
   "metadata": {},
   "outputs": [],
   "source": []
  }
 ],
 "metadata": {
  "kernelspec": {
   "display_name": "Python 3 (ipykernel)",
   "language": "python",
   "name": "python3"
  },
  "language_info": {
   "codemirror_mode": {
    "name": "ipython",
    "version": 3
   },
   "file_extension": ".py",
   "mimetype": "text/x-python",
   "name": "python",
   "nbconvert_exporter": "python",
   "pygments_lexer": "ipython3",
   "version": "3.9.12"
  }
 },
 "nbformat": 4,
 "nbformat_minor": 5
}
