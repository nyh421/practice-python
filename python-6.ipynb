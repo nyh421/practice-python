{
 "cells": [
  {
   "cell_type": "code",
   "execution_count": 1,
   "id": "fe9eb78a-c319-430f-8c7d-8e3203dc7178",
   "metadata": {},
   "outputs": [
    {
     "name": "stdout",
     "output_type": "stream",
     "text": [
      "9\n"
     ]
    }
   ],
   "source": [
    "def add(x, y):\n",
    "    return x + y\n",
    "type(add)\n",
    "newadd = add\n",
    "print(newadd(4, 5))"
   ]
  },
  {
   "cell_type": "code",
   "execution_count": 5,
   "id": "9cde9a68-ab4d-4835-9ca9-b1cd02f6bd4a",
   "metadata": {},
   "outputs": [],
   "source": [
    "int_values1 = 0\n",
    "int_values2 = int()\n",
    "int_values3 = int(9)\n",
    "list_values1 = []\n",
    "list_values2 = list()\n",
    "list_values3 = list(('松田', '浅木'))"
   ]
  },
  {
   "cell_type": "code",
   "execution_count": 7,
   "id": "25052d89-f971-40eb-8747-bcc9346ac3d8",
   "metadata": {},
   "outputs": [
    {
     "name": "stdout",
     "output_type": "stream",
     "text": [
      "スッキリファンタジー\n",
      "松田は3時間寝た!\n",
      "松田のHPは現在103です\n"
     ]
    }
   ],
   "source": [
    "class Hero:\n",
    "    name = '松田'\n",
    "    hp = 100\n",
    "    def sleep(self, hours):\n",
    "        print('{}は{}時間寝た!'.format(self.name, hours))\n",
    "        self.hp += hours\n",
    "\n",
    "print('スッキリファンタジー')\n",
    "h = Hero()\n",
    "h.sleep(3)\n",
    "print('{}のHPは現在{}です'.format(h.name, h.hp))"
   ]
  },
  {
   "cell_type": "code",
   "execution_count": 9,
   "id": "bb5906c4-82eb-4ef0-82d9-c5b1fee464e0",
   "metadata": {},
   "outputs": [
    {
     "name": "stdout",
     "output_type": "stream",
     "text": [
      "scores1のidentity: 140258210384448\n",
      "scores2のidentity: 140258210377024\n",
      "scores1とscores2は同じ内容です\n",
      "scores1とscores2は違う存在です\n"
     ]
    }
   ],
   "source": [
    "scores1 = [80, 40, 50]\n",
    "scores2 = [80, 40, 50]\n",
    "\n",
    "print('scores1のidentity: {}'.format(id(scores1)))\n",
    "print('scores2のidentity: {}'.format(id(scores2)))\n",
    "\n",
    "if scores1 == scores2:\n",
    "    print('scores1とscores2は同じ内容です')\n",
    "else:\n",
    "    print('scores1とscores2は違う内容です')\n",
    "    \n",
    "if id(scores1) == id(scores2):\n",
    "    print('scores1とscores2は同じ存在です')\n",
    "else:\n",
    "    print('scores1とscores2は違う存在です')"
   ]
  },
  {
   "cell_type": "code",
   "execution_count": 13,
   "id": "cdae9d97-bd8d-4cc4-b47a-470c48ab375a",
   "metadata": {},
   "outputs": [
    {
     "name": "stdout",
     "output_type": "stream",
     "text": [
      "さん付け後:松田さん\n",
      "さん付け前:松田\n"
     ]
    }
   ],
   "source": [
    "def add_suffix(names):\n",
    "    for i in range(len(names)):\n",
    "        names[i] = names[i] + 'さん'\n",
    "    return names\n",
    "\n",
    "before_names = ['松田', '浅木', '工藤']\n",
    "copied_names = list()\n",
    "for n in before_names:\n",
    "    copied_names.append(n)\n",
    "after_names = add_suffix(copied_names)\n",
    "print('さん付け後:' + after_names[0])\n",
    "print('さん付け前:' + before_names[0])"
   ]
  },
  {
   "cell_type": "code",
   "execution_count": 15,
   "id": "5fd30d7f-3fff-4fa4-8318-cccb0e14b7d0",
   "metadata": {},
   "outputs": [
    {
     "name": "stdout",
     "output_type": "stream",
     "text": [
      "変更前のlistのidentity:140257938553088\n",
      "変更後のlistのidentity:140257938553088\n",
      "変更前のstrのidentity:140258210185456\n",
      "変更後のstrのidentity:140258210186128\n"
     ]
    }
   ],
   "source": [
    "names = list()\n",
    "print('変更前のlistのidentity:{}'.format(id(names)))\n",
    "names.append('松田')\n",
    "print('変更後のlistのidentity:{}'.format(id(names)))\n",
    "\n",
    "name = '松田'\n",
    "print('変更前のstrのidentity:{}'.format(id(name)))\n",
    "name = 'スーパー' + name\n",
    "print('変更後のstrのidentity:{}'.format(id(name)))"
   ]
  },
  {
   "cell_type": "code",
   "execution_count": null,
   "id": "08164461-5f52-4b98-9ffe-53f2f0508a8b",
   "metadata": {},
   "outputs": [],
   "source": []
  }
 ],
 "metadata": {
  "kernelspec": {
   "display_name": "Python 3 (ipykernel)",
   "language": "python",
   "name": "python3"
  },
  "language_info": {
   "codemirror_mode": {
    "name": "ipython",
    "version": 3
   },
   "file_extension": ".py",
   "mimetype": "text/x-python",
   "name": "python",
   "nbconvert_exporter": "python",
   "pygments_lexer": "ipython3",
   "version": "3.9.12"
  }
 },
 "nbformat": 4,
 "nbformat_minor": 5
}
